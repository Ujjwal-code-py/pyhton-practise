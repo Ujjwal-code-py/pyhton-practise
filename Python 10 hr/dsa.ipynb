{
 "cells": [
  {
   "cell_type": "code",
   "execution_count": 123,
   "id": "85a03d61",
   "metadata": {},
   "outputs": [],
   "source": [
    "# list are dynamic arrays \n",
    "# lets create a our own list calss and its methods"
   ]
  },
  {
   "cell_type": "code",
   "execution_count": 124,
   "id": "929f0c7c",
   "metadata": {},
   "outputs": [],
   "source": [
    "import ctypes\n",
    "class mylist:\n",
    "    def __init__(self):\n",
    "        self.n=0\n",
    "        self.size=1\n",
    "        self.A=self.__make_array(self.size)\n",
    "    def __make_array(self,capacity):\n",
    "        # create a ctype array with size capacity\n",
    "        return (capacity*ctypes.py_object)()\n",
    "    def __len__(self):\n",
    "        return self.n\n",
    "    def append(self,item):\n",
    "        if self.n==self.size:\n",
    "            # resize\n",
    "            self.__resize(self.size*2)\n",
    "        self.A[self.n]=item\n",
    "        self.n=self.n+1\n",
    "    def pop(self):\n",
    "        if(self.n==0):\n",
    "            return 'Empty list'\n",
    "        print(self.A[self.n-1])\n",
    "            \n",
    "        self.n=self.n-1\n",
    "    def clear(self):\n",
    "        self.n=0\n",
    "        self.size=1\n",
    "    def find(self,item):\n",
    "        for i in range(self.n):\n",
    "            if(self.A[i]==item):\n",
    "                return i\n",
    "            else:\n",
    "                return 'Value Error - not in list'\n",
    "    \n",
    "    def insert(self,pos,item):\n",
    "        if(self.n==self.size):\n",
    "            self.__resize(self.size*2)\n",
    "        for i in range(self.n,pos):\n",
    "            self.A[i]=self.A[i-1]\n",
    "        self.A[pos]=item\n",
    "        self.n=self.n+1\n",
    "        \n",
    "    def __resize(self,newcapacity):\n",
    "        # create a new array with new capacity\n",
    "        B=self.__make_array(newcapacity)\n",
    "        self.size=newcapacity\n",
    "        # copy content of a to b\n",
    "        for i in range(self.n):\n",
    "            B[i]=self.A[i]\n",
    "        self.A=B\n",
    "    # printintg the array element\n",
    "    def __str__(self):\n",
    "        result=''\n",
    "        for i in range(self.n):\n",
    "            result = result+str(self.A[i])+','\n",
    "        return '['+result[:-1]+']'\n",
    "    def __getitem__(self,index):\n",
    "        if 0<index<self.n:\n",
    "            return self.A[index]\n",
    "        else:\n",
    "            return 'Index Error-Inde out of range'\n",
    "    def __delitem__(self,pos):\n",
    "        if(0<pos<self.n):\n",
    "            for i in range(pos,self.n-1):\n",
    "                self.A[i]=self.A[i+1]\n",
    "            self.n=self.n-1\n",
    "    def remove(self,item):\n",
    "        pos=self.find(item)\n",
    "        if(type(pos)==int):\n",
    "            self.__delitem__(pos)\n",
    "        else:\n",
    "            return pos\n",
    "        \n",
    "    \n",
    "        \n",
    "    \n",
    "    "
   ]
  },
  {
   "cell_type": "code",
   "execution_count": 125,
   "id": "c2812770",
   "metadata": {},
   "outputs": [],
   "source": [
    "l=mylist()"
   ]
  },
  {
   "cell_type": "code",
   "execution_count": 126,
   "id": "6354de7e",
   "metadata": {},
   "outputs": [
    {
     "data": {
      "text/plain": [
       "0"
      ]
     },
     "execution_count": 126,
     "metadata": {},
     "output_type": "execute_result"
    }
   ],
   "source": [
    "len(l)"
   ]
  },
  {
   "cell_type": "code",
   "execution_count": null,
   "id": "3209f5b8",
   "metadata": {},
   "outputs": [],
   "source": []
  },
  {
   "cell_type": "code",
   "execution_count": 127,
   "id": "f1a4a2ab",
   "metadata": {},
   "outputs": [],
   "source": [
    "l.find('heloo')"
   ]
  },
  {
   "cell_type": "code",
   "execution_count": 128,
   "id": "fdc9c898",
   "metadata": {},
   "outputs": [],
   "source": [
    "l.insert(0,\"bye\")"
   ]
  },
  {
   "cell_type": "code",
   "execution_count": 129,
   "id": "e8f45afa",
   "metadata": {},
   "outputs": [
    {
     "data": {
      "text/plain": [
       "<__main__.mylist at 0x1b09ce82a50>"
      ]
     },
     "execution_count": 129,
     "metadata": {},
     "output_type": "execute_result"
    }
   ],
   "source": [
    "l"
   ]
  },
  {
   "cell_type": "code",
   "execution_count": 130,
   "id": "6363a8f0",
   "metadata": {},
   "outputs": [],
   "source": [
    "l.remove('bye')"
   ]
  },
  {
   "cell_type": "code",
   "execution_count": null,
   "id": "519bee85",
   "metadata": {},
   "outputs": [],
   "source": []
  },
  {
   "cell_type": "code",
   "execution_count": 131,
   "id": "2ba0cda3",
   "metadata": {},
   "outputs": [],
   "source": [
    "l.append('heloo')"
   ]
  },
  {
   "cell_type": "code",
   "execution_count": 132,
   "id": "bdbd3397",
   "metadata": {},
   "outputs": [
    {
     "name": "stdout",
     "output_type": "stream",
     "text": [
      "[bye,heloo]\n"
     ]
    }
   ],
   "source": [
    "print(l)"
   ]
  },
  {
   "cell_type": "code",
   "execution_count": 133,
   "id": "dd96d109",
   "metadata": {},
   "outputs": [],
   "source": [
    "del l[1]"
   ]
  },
  {
   "cell_type": "code",
   "execution_count": 134,
   "id": "2d9f7d9b",
   "metadata": {},
   "outputs": [
    {
     "name": "stdout",
     "output_type": "stream",
     "text": [
      "[bye]\n"
     ]
    }
   ],
   "source": [
    "print(l)"
   ]
  },
  {
   "cell_type": "code",
   "execution_count": 135,
   "id": "e4cd9d29",
   "metadata": {},
   "outputs": [],
   "source": [
    "l.remove('bye')"
   ]
  },
  {
   "cell_type": "code",
   "execution_count": 136,
   "id": "ebbf6655",
   "metadata": {},
   "outputs": [
    {
     "name": "stdout",
     "output_type": "stream",
     "text": [
      "[bye]\n"
     ]
    }
   ],
   "source": [
    "print(l)"
   ]
  },
  {
   "cell_type": "code",
   "execution_count": null,
   "id": "e1381d60",
   "metadata": {},
   "outputs": [],
   "source": []
  },
  {
   "cell_type": "markdown",
   "id": "86f86f22",
   "metadata": {},
   "source": [
    "# Linked list"
   ]
  },
  {
   "cell_type": "code",
   "execution_count": 2,
   "id": "6cc53962",
   "metadata": {},
   "outputs": [],
   "source": [
    "class node:\n",
    "    def __init__(self,value):\n",
    "        self.data=value\n",
    "        self.next=None\n",
    "\n",
    "        "
   ]
  },
  {
   "cell_type": "code",
   "execution_count": null,
   "id": "5e40515a",
   "metadata": {},
   "outputs": [],
   "source": [
    "class Linkedlist:\n",
    "    def __init__(self):\n",
    "        # Empty linked list\n",
    "        self.head=None\n",
    "        self.n=0\n",
    "    def __len__(self):\n",
    "        return self.n\n",
    "    def Insert_head(self,value):\n",
    "        new_node=node(value) # creation of new node\n",
    "        new_node.next=self.head # add the old head as next for new node\n",
    "        self.head=new_node      # assign newnode as head\n",
    "        self.n=self.n+1         # Increment the size of linkedlist\n",
    "    def Append(self,value):\n",
    "        new_node=node(value)\n",
    "        if(self.head==None):\n",
    "            \n",
    "            self.head=new_node\n",
    "            self.n=self.n+1\n",
    "            return\n",
    "            \n",
    "            \n",
    "        \n",
    "        curr=self.head\n",
    "        while curr.next!=None:\n",
    "            curr=curr.next\n",
    "        # you are at last node\n",
    "        curr.next=new_node\n",
    "        self.n=self.n+1\n",
    "            \n",
    "    def insert_after(self,after,value):\n",
    "        new_node=node(value)\n",
    "        curr=self.head\n",
    "        \n",
    "        while curr!=None:\n",
    "            if curr.data==after:\n",
    "                break\n",
    "            curr=curr.next\n",
    "        # case1 item apko mil gaya\n",
    "        if(curr!=None):\n",
    "            new_node.next=curr.next\n",
    "            curr.next=new_node\n",
    "        else:\n",
    "            return 'item not found'\n",
    "            \n",
    "        \n",
    "            \n",
    "        \n",
    "    def __str__(self):\n",
    "        curr=self.head\n",
    "        result=''\n",
    "        while curr!=None:\n",
    "            result=result+str(curr.data)+'->'\n",
    "            curr=curr.next\n",
    "        return result[:-2]\n",
    "    \n",
    "        "
   ]
  },
  {
   "cell_type": "code",
   "execution_count": 58,
   "id": "30ba5ac5",
   "metadata": {},
   "outputs": [
    {
     "name": "stdout",
     "output_type": "stream",
     "text": [
      "\n"
     ]
    }
   ],
   "source": [
    "l1=Linkedlist()\n",
    "print(l1) # output : <__main__.Linkedlist object at 0x00000285B4B5E090> address of linked list"
   ]
  },
  {
   "cell_type": "code",
   "execution_count": 59,
   "id": "7d369f77",
   "metadata": {},
   "outputs": [
    {
     "data": {
      "text/plain": [
       "0"
      ]
     },
     "execution_count": 59,
     "metadata": {},
     "output_type": "execute_result"
    }
   ],
   "source": [
    "len(l1)"
   ]
  },
  {
   "cell_type": "code",
   "execution_count": 60,
   "id": "ffb162ad",
   "metadata": {},
   "outputs": [],
   "source": [
    "l1.Insert_head(1)"
   ]
  },
  {
   "cell_type": "code",
   "execution_count": 61,
   "id": "6c5102f1",
   "metadata": {},
   "outputs": [],
   "source": [
    "l1.Insert_head(2)\n",
    "l1.Insert_head(3)\n",
    "l1.Insert_head(4)"
   ]
  },
  {
   "cell_type": "code",
   "execution_count": 62,
   "id": "1e295d36",
   "metadata": {},
   "outputs": [
    {
     "name": "stdout",
     "output_type": "stream",
     "text": [
      "4->3->2->1\n"
     ]
    }
   ],
   "source": [
    "print(l1)"
   ]
  },
  {
   "cell_type": "code",
   "execution_count": 63,
   "id": "b69db646",
   "metadata": {},
   "outputs": [],
   "source": [
    "l1.Append(5)"
   ]
  },
  {
   "cell_type": "code",
   "execution_count": 64,
   "id": "40bd6aa1",
   "metadata": {},
   "outputs": [
    {
     "name": "stdout",
     "output_type": "stream",
     "text": [
      "4->3->2->1->5\n"
     ]
    }
   ],
   "source": [
    "print(l1)"
   ]
  },
  {
   "cell_type": "code",
   "execution_count": null,
   "id": "07f6a41d",
   "metadata": {},
   "outputs": [],
   "source": []
  }
 ],
 "metadata": {
  "kernelspec": {
   "display_name": "Python 3",
   "language": "python",
   "name": "python3"
  },
  "language_info": {
   "codemirror_mode": {
    "name": "ipython",
    "version": 3
   },
   "file_extension": ".py",
   "mimetype": "text/x-python",
   "name": "python",
   "nbconvert_exporter": "python",
   "pygments_lexer": "ipython3",
   "version": "3.11.4"
  }
 },
 "nbformat": 4,
 "nbformat_minor": 5
}
