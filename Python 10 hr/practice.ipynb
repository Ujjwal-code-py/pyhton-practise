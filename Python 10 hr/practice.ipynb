{
 "cells": [
  {
   "cell_type": "code",
   "execution_count": 1,
   "id": "6970c943",
   "metadata": {},
   "outputs": [
    {
     "name": "stdout",
     "output_type": "stream",
     "text": [
      "hello\n"
     ]
    }
   ],
   "source": [
    "print(\"hello\")"
   ]
  },
  {
   "cell_type": "code",
   "execution_count": 4,
   "id": "cb13610a",
   "metadata": {},
   "outputs": [
    {
     "name": "stdout",
     "output_type": "stream",
     "text": [
      "heloo ujjwal\n"
     ]
    }
   ],
   "source": [
    "class student:\n",
    "    name=\"ujjwal\"\n",
    "    def __init__(self):\n",
    "        print(\"heloo ujjwal\")\n",
    "s1=student()\n",
    "# print(s1.name)"
   ]
  },
  {
   "cell_type": "code",
   "execution_count": 9,
   "id": "4fab0b05",
   "metadata": {},
   "outputs": [
    {
     "name": "stdout",
     "output_type": "stream",
     "text": [
      "92.0\n"
     ]
    }
   ],
   "source": [
    "class student:\n",
    "    def __init__(self,name,marks):\n",
    "        self.name=name\n",
    "        self.marks=marks\n",
    "        \n",
    "    def average(self):\n",
    "        sum=0\n",
    "        for n in self.marks:\n",
    "            sum+=n\n",
    "        avg=sum/3\n",
    "        print(avg)\n",
    "         \n",
    "s1=student(\"Ujjwal\",[91,92,93])\n",
    "s1.average()"
   ]
  },
  {
   "cell_type": "code",
   "execution_count": 12,
   "id": "a5ef6115",
   "metadata": {},
   "outputs": [
    {
     "name": "stdout",
     "output_type": "stream",
     "text": [
      "5000 is debited current balance is 5000\n"
     ]
    }
   ],
   "source": [
    "class Account:\n",
    "    def __init__(self,bal,accno):\n",
    "        self.accno=accno\n",
    "        self.bal=bal\n",
    "    def debit(self,amt):\n",
    "        self.bal-=amt\n",
    "        print(f\"{amt} is debited current balance is {self.bal}\")\n",
    "    def credit(self,amt):\n",
    "        self.bal+=amt\n",
    "        print(f\"{amt} is credited current balance is {self.bal}\")\n",
    "    def get_bal(self):\n",
    "        return self.bal\n",
    "a1=Account(10000,12345)\n",
    "a1.debit(5000)"
   ]
  }
 ],
 "metadata": {
  "kernelspec": {
   "display_name": "Python 3",
   "language": "python",
   "name": "python3"
  },
  "language_info": {
   "codemirror_mode": {
    "name": "ipython",
    "version": 3
   },
   "file_extension": ".py",
   "mimetype": "text/x-python",
   "name": "python",
   "nbconvert_exporter": "python",
   "pygments_lexer": "ipython3",
   "version": "3.11.4"
  }
 },
 "nbformat": 4,
 "nbformat_minor": 5
}
