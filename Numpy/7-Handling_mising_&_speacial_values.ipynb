{
 "cells": [
  {
   "cell_type": "markdown",
   "id": "b145e615",
   "metadata": {},
   "source": [
    "# Handling missing values\n"
   ]
  },
  {
   "cell_type": "markdown",
   "id": "feb5a645",
   "metadata": {},
   "source": [
    "### isnan (find the nan values in array)"
   ]
  },
  {
   "cell_type": "code",
   "execution_count": 4,
   "id": "8dfab9d8",
   "metadata": {},
   "outputs": [
    {
     "name": "stdout",
     "output_type": "stream",
     "text": [
      "[False False False  True False]\n"
     ]
    }
   ],
   "source": [
    "import numpy as np\n",
    "arr=np.array([1,2,3,np.nan,0])\n",
    "print(np.isnan(arr))"
   ]
  },
  {
   "cell_type": "markdown",
   "id": "d0a90a1a",
   "metadata": {},
   "source": [
    "##### Can we compare np.nan==np.nan values \n",
    "##### ans = no we can not compare"
   ]
  },
  {
   "cell_type": "markdown",
   "id": "c735a87f",
   "metadata": {},
   "source": [
    "### np.nan_to_num(arr,nan=value) default value is 0 (used to replace null vales with nan)"
   ]
  },
  {
   "cell_type": "code",
   "execution_count": 7,
   "id": "129aa517",
   "metadata": {},
   "outputs": [
    {
     "name": "stdout",
     "output_type": "stream",
     "text": [
      "[1. 2. 3. 2. 0.]\n"
     ]
    }
   ],
   "source": [
    "arr=np.array([1,2,3,np.nan,0])\n",
    "arr=np.nan_to_num(arr,nan=2)\n",
    "print(arr) # nan value is replaced by 2"
   ]
  },
  {
   "cell_type": "markdown",
   "id": "b017fe22",
   "metadata": {},
   "source": [
    "### Handling infinite values\n",
    "### np.isinf() check if any infinite value is in array"
   ]
  },
  {
   "cell_type": "code",
   "execution_count": 9,
   "id": "295942ab",
   "metadata": {},
   "outputs": [
    {
     "name": "stdout",
     "output_type": "stream",
     "text": [
      "[False False  True False  True False]\n"
     ]
    }
   ],
   "source": [
    "arr=np.array([1,2,np.inf,3,-np.inf,0])\n",
    "print(np.isinf(arr))"
   ]
  },
  {
   "cell_type": "markdown",
   "id": "9b5657e8",
   "metadata": {},
   "source": [
    "### np.nan_to_num(arr,posinf=1000,neginf=-1000) replace infinite value with positive infinite with 1000 and negative infinite with -1000"
   ]
  },
  {
   "cell_type": "code",
   "execution_count": 11,
   "id": "7e985f17",
   "metadata": {},
   "outputs": [
    {
     "name": "stdout",
     "output_type": "stream",
     "text": [
      "[    1.     2.  1000.     3. -1000.     0.]\n"
     ]
    }
   ],
   "source": [
    "arr=np.array([1,2,np.inf,3,-np.inf,0])\n",
    "cleaned_arr=np.nan_to_num(arr,posinf=1000,neginf=-1000)\n",
    "print(cleaned_arr)"
   ]
  },
  {
   "cell_type": "code",
   "execution_count": null,
   "id": "7d531dcb",
   "metadata": {},
   "outputs": [],
   "source": []
  }
 ],
 "metadata": {
  "kernelspec": {
   "display_name": "Python 3",
   "language": "python",
   "name": "python3"
  },
  "language_info": {
   "codemirror_mode": {
    "name": "ipython",
    "version": 3
   },
   "file_extension": ".py",
   "mimetype": "text/x-python",
   "name": "python",
   "nbconvert_exporter": "python",
   "pygments_lexer": "ipython3",
   "version": "3.11.4"
  }
 },
 "nbformat": 4,
 "nbformat_minor": 5
}
