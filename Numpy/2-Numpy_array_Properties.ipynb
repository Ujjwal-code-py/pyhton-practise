{
 "cells": [
  {
   "cell_type": "markdown",
   "id": "f9b4b9c6",
   "metadata": {},
   "source": [
    "### Array Properties"
   ]
  },
  {
   "cell_type": "code",
   "execution_count": 1,
   "id": "1763ff40",
   "metadata": {},
   "outputs": [],
   "source": [
    "import numpy as np"
   ]
  },
  {
   "cell_type": "markdown",
   "id": "ddd0fdc1",
   "metadata": {},
   "source": [
    "##### arr.shape check dimensions of exceltable or array"
   ]
  },
  {
   "cell_type": "code",
   "execution_count": 4,
   "id": "45aec1cf",
   "metadata": {},
   "outputs": [
    {
     "name": "stdout",
     "output_type": "stream",
     "text": [
      "(3, 4)\n"
     ]
    }
   ],
   "source": [
    "arr=np.array([[13,3,4,5],\n",
    "              [2,3,4,5],\n",
    "              [2,3,4,51]])\n",
    "print(arr.shape)"
   ]
  },
  {
   "cell_type": "markdown",
   "id": "738c959b",
   "metadata": {},
   "source": [
    "##### size Total no of elements in array"
   ]
  },
  {
   "cell_type": "code",
   "execution_count": 6,
   "id": "55de1531",
   "metadata": {},
   "outputs": [
    {
     "name": "stdout",
     "output_type": "stream",
     "text": [
      "12\n"
     ]
    }
   ],
   "source": [
    "arr=np.array([[13,3,4,5],\n",
    "              [2,3,4,5],\n",
    "              [2,3,4,51]])\n",
    "print(arr.size)"
   ]
  },
  {
   "cell_type": "markdown",
   "id": "22b36bd9",
   "metadata": {},
   "source": [
    "##### ndim check which dimensional array it is"
   ]
  },
  {
   "cell_type": "code",
   "execution_count": 7,
   "id": "15874c52",
   "metadata": {},
   "outputs": [
    {
     "name": "stdout",
     "output_type": "stream",
     "text": [
      "1\n",
      "2\n",
      "3\n"
     ]
    }
   ],
   "source": [
    "arr_1d=np.array([13,3,4,5])\n",
    "arr_2d=np.array([[13,3,4,5],\n",
    "              [2,3,4,5],\n",
    "              [2,3,4,51]])\n",
    "arr_3d=np.array([\n",
    "    [[13,3,4,5],[2,3,4,5],[2,3,4,51]],\n",
    "    [[13,3,4,5],[2,3,4,5],[2,3,4,51]]\n",
    "    ])\n",
    "\n",
    "print(arr_1d.ndim)\n",
    "print(arr_2d.ndim)\n",
    "print(arr_3d.ndim)"
   ]
  },
  {
   "cell_type": "markdown",
   "id": "ec8de9de",
   "metadata": {},
   "source": [
    "##### arr.dtype check datatype of array"
   ]
  },
  {
   "cell_type": "code",
   "execution_count": 8,
   "id": "059c13fb",
   "metadata": {},
   "outputs": [
    {
     "name": "stdout",
     "output_type": "stream",
     "text": [
      "float64\n"
     ]
    }
   ],
   "source": [
    "arr=np.array([13,3,4.5,5])\n",
    "print(arr.dtype)\n"
   ]
  },
  {
   "cell_type": "markdown",
   "id": "7dd9e0bd",
   "metadata": {},
   "source": [
    "##### astype(newtype) change datatype of  of array (if values in array are float then it will convert into int. decimal value got deleted)"
   ]
  },
  {
   "cell_type": "code",
   "execution_count": 11,
   "id": "f70b8569",
   "metadata": {},
   "outputs": [
    {
     "name": "stdout",
     "output_type": "stream",
     "text": [
      "float64\n",
      "[13  3  4  5]\n",
      "int64\n"
     ]
    }
   ],
   "source": [
    "arr=np.array([13,3,4.5,5])\n",
    "print(arr.dtype)\n",
    "int_arr=arr.astype(int)\n",
    "print(int_arr)\n",
    "print(int_arr.dtype)\n"
   ]
  },
  {
   "cell_type": "markdown",
   "id": "bbd878ae",
   "metadata": {},
   "source": [
    "### Array operation"
   ]
  },
  {
   "cell_type": "markdown",
   "id": "ef763079",
   "metadata": {},
   "source": [
    "##### Operator"
   ]
  },
  {
   "cell_type": "code",
   "execution_count": 14,
   "id": "d41aab88",
   "metadata": {},
   "outputs": [
    {
     "name": "stdout",
     "output_type": "stream",
     "text": [
      "[12 32 42 52]\n",
      "[ 20  60  80 100]\n",
      "[ 100  900 1600 2500]\n",
      "[ 5 15 20 25]\n",
      "[0 0 0 0]\n",
      "[ 5. 15. 20. 25.]\n",
      "[ 8 28 38 48]\n"
     ]
    }
   ],
   "source": [
    "arr=np.array([10,30,40,50])\n",
    "print(arr+2)\n",
    "print(arr*2)\n",
    "print(arr**2)\n",
    "print(arr//2) # floor value\n",
    "print(arr%2) # Remainder\n",
    "print(arr/2) # float\n",
    "print(arr-2)"
   ]
  },
  {
   "cell_type": "markdown",
   "id": "4a7dd663",
   "metadata": {},
   "source": [
    "##### Aggregate Function"
   ]
  },
  {
   "cell_type": "code",
   "execution_count": 16,
   "id": "e617af8c",
   "metadata": {},
   "outputs": [
    {
     "name": "stdout",
     "output_type": "stream",
     "text": [
      "130\n",
      "32.5\n",
      "10\n",
      "50\n",
      "14.79019945774904\n",
      "218.75\n"
     ]
    }
   ],
   "source": [
    "arr=np.array([10,30,40,50])\n",
    "print(np.sum(arr))\n",
    "print(np.mean(arr))\n",
    "print(np.min(arr))\n",
    "print(np.max(arr))\n",
    "print(np.std(arr))\n",
    "print(np.var(arr))"
   ]
  },
  {
   "cell_type": "markdown",
   "id": "cacb8db4",
   "metadata": {},
   "source": [
    "##### np.arange(num) n-1 tak array ban \n",
    "##### if you want to split the array (np.array_split(x,3)) then it split x range array  in to 3 sub array\n"
   ]
  },
  {
   "cell_type": "code",
   "execution_count": 21,
   "id": "97f2c0ed",
   "metadata": {},
   "outputs": [
    {
     "name": "stdout",
     "output_type": "stream",
     "text": [
      "[0. 1. 2. 3. 4. 5. 6. 7.]\n"
     ]
    },
    {
     "data": {
      "text/plain": [
       "[array([0., 1., 2.]), array([3., 4., 5.]), array([6., 7.])]"
      ]
     },
     "execution_count": 21,
     "metadata": {},
     "output_type": "execute_result"
    }
   ],
   "source": [
    "import numpy as np\n",
    "x = np.arange(8.0)\n",
    "print(x)\n",
    "np.array_split(x, 3)\n"
   ]
  },
  {
   "cell_type": "code",
   "execution_count": null,
   "id": "393077a1",
   "metadata": {},
   "outputs": [],
   "source": []
  }
 ],
 "metadata": {
  "kernelspec": {
   "display_name": "Python 3",
   "language": "python",
   "name": "python3"
  },
  "language_info": {
   "codemirror_mode": {
    "name": "ipython",
    "version": 3
   },
   "file_extension": ".py",
   "mimetype": "text/x-python",
   "name": "python",
   "nbconvert_exporter": "python",
   "pygments_lexer": "ipython3",
   "version": "3.11.4"
  }
 },
 "nbformat": 4,
 "nbformat_minor": 5
}
