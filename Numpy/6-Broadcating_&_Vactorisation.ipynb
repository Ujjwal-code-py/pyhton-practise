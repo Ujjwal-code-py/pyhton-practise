{
 "cells": [
  {
   "cell_type": "markdown",
   "id": "031468ad",
   "metadata": {},
   "source": [
    "# Broadcasting & vectorisation"
   ]
  },
  {
   "cell_type": "markdown",
   "id": "752a1212",
   "metadata": {},
   "source": [
    "## broadcasting"
   ]
  },
  {
   "cell_type": "markdown",
   "id": "c0075231",
   "metadata": {},
   "source": [
    "##### Problem"
   ]
  },
  {
   "cell_type": "markdown",
   "id": "1c21ce72",
   "metadata": {},
   "source": [
    "if you have a list of prices and you want apply a discount of 10 % on every value"
   ]
  },
  {
   "cell_type": "code",
   "execution_count": 9,
   "id": "873f9045",
   "metadata": {},
   "outputs": [
    {
     "name": "stdout",
     "output_type": "stream",
     "text": [
      "[90, 180, 270]\n"
     ]
    }
   ],
   "source": [
    "prices=[100,200,300]\n",
    "discount=10 # 10%\n",
    "final_prices=[]\n",
    "for price in prices:\n",
    "    final_price=price-((price*discount)//100)\n",
    "    final_prices.append(final_price)\n",
    "print(final_prices)"
   ]
  },
  {
   "cell_type": "markdown",
   "id": "843278da",
   "metadata": {},
   "source": [
    "##### Solution Fast and reliable for large datasets use numpy arrays"
   ]
  },
  {
   "cell_type": "code",
   "execution_count": 10,
   "id": "a9bc2ac9",
   "metadata": {},
   "outputs": [
    {
     "name": "stdout",
     "output_type": "stream",
     "text": [
      "[ 90 180 270]\n"
     ]
    }
   ],
   "source": [
    "import numpy as np\n",
    "prices=np.array([100,200,300])\n",
    "discount=10\n",
    "final_prices=prices-((prices*discount)//100)\n",
    "print(final_prices)"
   ]
  },
  {
   "cell_type": "markdown",
   "id": "2d9f066e",
   "metadata": {},
   "source": [
    "### single value"
   ]
  },
  {
   "cell_type": "code",
   "execution_count": 12,
   "id": "6c832871",
   "metadata": {},
   "outputs": [
    {
     "name": "stdout",
     "output_type": "stream",
     "text": [
      "[102 202 302]\n"
     ]
    }
   ],
   "source": [
    "arr=np.array([100,200,300])\n",
    "add_2=arr+2\n",
    "print(add_2) # 2 is added in each value  of array"
   ]
  },
  {
   "cell_type": "markdown",
   "id": "c5490623",
   "metadata": {},
   "source": [
    "#### 1d_2d"
   ]
  },
  {
   "cell_type": "code",
   "execution_count": 15,
   "id": "153e1bf0",
   "metadata": {},
   "outputs": [
    {
     "name": "stdout",
     "output_type": "stream",
     "text": [
      "(3,)\n",
      "(2, 3)\n",
      "[[11 22 33]\n",
      " [14 25 36]]\n"
     ]
    }
   ],
   "source": [
    "matrix=np.array([[1,2,3],[4,5,6]])\n",
    "vector=np.array([10,20,30])# Numpy expand array to Match dimension\n",
    "print(np.shape(vector))\n",
    "print(np.shape(matrix))\n",
    "\n",
    "result=matrix+vector\n",
    "print(result)\n",
    "\n",
    "\n"
   ]
  },
  {
   "cell_type": "markdown",
   "id": "cb5334cb",
   "metadata": {},
   "source": [
    "#### Error by incomapatible dimension"
   ]
  },
  {
   "cell_type": "code",
   "execution_count": 22,
   "id": "fd6d4a1f",
   "metadata": {},
   "outputs": [
    {
     "ename": "ValueError",
     "evalue": "operands could not be broadcast together with shapes (2,3) (2,) ",
     "output_type": "error",
     "traceback": [
      "\u001b[31m---------------------------------------------------------------------------\u001b[39m",
      "\u001b[31mValueError\u001b[39m                                Traceback (most recent call last)",
      "\u001b[36mCell\u001b[39m\u001b[36m \u001b[39m\u001b[32mIn[22]\u001b[39m\u001b[32m, line 3\u001b[39m\n\u001b[32m      1\u001b[39m arr1=np.array([[\u001b[32m1\u001b[39m,\u001b[32m2\u001b[39m,\u001b[32m3\u001b[39m],[\u001b[32m4\u001b[39m,\u001b[32m5\u001b[39m,\u001b[32m6\u001b[39m]])\n\u001b[32m      2\u001b[39m arr2=np.array([\u001b[32m1\u001b[39m,\u001b[32m2\u001b[39m])\n\u001b[32m----> \u001b[39m\u001b[32m3\u001b[39m result=\u001b[43marr1\u001b[49m\u001b[43m+\u001b[49m\u001b[43marr2\u001b[49m\n\u001b[32m      4\u001b[39m \u001b[38;5;28mprint\u001b[39m(result)\n\u001b[32m      6\u001b[39m \u001b[38;5;66;03m## it throws an error \u001b[39;00m\n\u001b[32m      7\u001b[39m \u001b[38;5;66;03m# operands could not be broadcast together with shapes (2,3) (2,) \u001b[39;00m\n",
      "\u001b[31mValueError\u001b[39m: operands could not be broadcast together with shapes (2,3) (2,) "
     ]
    }
   ],
   "source": [
    "arr1=np.array([[1,2,3],[4,5,6]])\n",
    "arr2=np.array([1,2])\n",
    "result=arr1+arr2\n",
    "print(result)\n",
    "\n",
    "## it throws an error \n",
    "# operands could not be broadcast together with shapes (2,3) (2,) "
   ]
  },
  {
   "cell_type": "markdown",
   "id": "e00a9c30",
   "metadata": {},
   "source": [
    "## Vectoriztion\n",
    "Writing operations without explicit Python loops, letting NumPy run them internally in optimized C code.\n",
    "\n",
    "Makes code faster and shorter."
   ]
  },
  {
   "cell_type": "markdown",
   "id": "b9e70312",
   "metadata": {},
   "source": [
    "#### problem with for loop"
   ]
  },
  {
   "cell_type": "code",
   "execution_count": 23,
   "id": "66768419",
   "metadata": {},
   "outputs": [
    {
     "name": "stdout",
     "output_type": "stream",
     "text": [
      "[4, 6, 8, 10, 12]\n"
     ]
    }
   ],
   "source": [
    "l1=[1,2,3,4,5]\n",
    "l2=[3,4,5,6,7]\n",
    "\n",
    "output=[l1+l2 for l1,l2 in zip(l1,l2)]\n",
    "print(output)"
   ]
  },
  {
   "cell_type": "code",
   "execution_count": null,
   "id": "998bb65b",
   "metadata": {},
   "outputs": [
    {
     "name": "stdout",
     "output_type": "stream",
     "text": [
      "[ 4  6  8 10 12]\n"
     ]
    }
   ],
   "source": [
    "A1=np.array([1,2,3,4,5])\n",
    "A2=np.array([3,4,5,6,7])\n",
    "result=A1+A2\n",
    "print(result) # faster solution \n"
   ]
  },
  {
   "cell_type": "code",
   "execution_count": null,
   "id": "78e1f3dc",
   "metadata": {},
   "outputs": [
    {
     "name": "stdout",
     "output_type": "stream",
     "text": [
      "[ 9 12 15 18 21]\n"
     ]
    }
   ],
   "source": [
    "AA=np.array([3,4,5,6,7])\n",
    "print(AA*3) # easy way to perform operation"
   ]
  },
  {
   "cell_type": "markdown",
   "id": "e3eb339c",
   "metadata": {},
   "source": [
    "1. Concept\n",
    "\n",
    "Vectorization → How operations are executed — replacing explicit loops with optimized NumPy operations.\n",
    "\n",
    "Broadcasting → How NumPy automatically matches array shapes so the operation can happen.\n",
    "\n",
    "2. Purpose\n",
    "\n",
    "Vectorization → Makes code shorter, cleaner, and much faster by avoiding Python loops.\n",
    "\n",
    "Broadcasting → Lets you work with arrays of different shapes without manually resizing them.\n",
    "\n",
    "3. Analogy\n",
    "\n",
    "Vectorization → You decide to use a high-speed blender instead of chopping veggies one by one with a knife.\n",
    "\n",
    "Broadcasting → Your blender adjusts its jar size automatically to fit however many veggies you put in."
   ]
  },
  {
   "cell_type": "code",
   "execution_count": null,
   "id": "c351abe0",
   "metadata": {},
   "outputs": [],
   "source": []
  },
  {
   "cell_type": "markdown",
   "id": "8c40c60e",
   "metadata": {},
   "source": [
    "#### Feature             \tVectorization\t                                    Broadcasting\n",
    "#### What it is-\tPerforming operations without explicit loops     -\t    Adjusting array shapes automatically\n",
    "#### Focus-\t        Speed and efficiency\t   -                           Shape compatibility\n",
    "#### Requires-\t    Arrays of same shape (or scalars)\t-               Arrays of compatible shapes per rules\n",
    "#### When it happens-When you write math on whole arrays\t-               Before the math happens, if shapes differ"
   ]
  },
  {
   "cell_type": "markdown",
   "id": "b47bb030",
   "metadata": {},
   "source": []
  }
 ],
 "metadata": {
  "kernelspec": {
   "display_name": "Python 3",
   "language": "python",
   "name": "python3"
  },
  "language_info": {
   "codemirror_mode": {
    "name": "ipython",
    "version": 3
   },
   "file_extension": ".py",
   "mimetype": "text/x-python",
   "name": "python",
   "nbconvert_exporter": "python",
   "pygments_lexer": "ipython3",
   "version": "3.11.4"
  }
 },
 "nbformat": 4,
 "nbformat_minor": 5
}
