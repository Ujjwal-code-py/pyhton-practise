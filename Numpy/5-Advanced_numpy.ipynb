{
 "cells": [
  {
   "cell_type": "markdown",
   "id": "68ee8fe0",
   "metadata": {},
   "source": [
    "## Insert\n",
    "#### np.insert(array,index,value,axis=None) \n",
    "#### array=original array\n",
    "#### index= jis index\n",
    "#### value= konsi value\n",
    "#### axis=none if 1d array\n",
    "#### axis=0,row wise 1 cloumn_wise"
   ]
  },
  {
   "cell_type": "code",
   "execution_count": 2,
   "id": "279ad313",
   "metadata": {},
   "outputs": [],
   "source": [
    "import numpy as np"
   ]
  },
  {
   "cell_type": "code",
   "execution_count": 3,
   "id": "c69d5ec0",
   "metadata": {},
   "outputs": [
    {
     "name": "stdout",
     "output_type": "stream",
     "text": [
      "[1 2 3 4 5 6 7 8 9]\n"
     ]
    }
   ],
   "source": [
    "arr=np.array([1,2,3,4,5,6,7,8])\n",
    "print(np.insert(arr,8,9)) # by default axis is 0 for 1d"
   ]
  },
  {
   "cell_type": "markdown",
   "id": "c055b0e1",
   "metadata": {},
   "source": [
    "## insert_in_2d_array"
   ]
  },
  {
   "cell_type": "code",
   "execution_count": 4,
   "id": "1affea90",
   "metadata": {},
   "outputs": [
    {
     "name": "stdout",
     "output_type": "stream",
     "text": [
      "[[2 4]\n",
      " [1 2]\n",
      " [3 4]\n",
      " [5 6]\n",
      " [7 8]]\n"
     ]
    }
   ],
   "source": [
    "arr=np.array([[1,2],\n",
    "              [3,4],\n",
    "              [5,6],\n",
    "              [7,8]])\n",
    "array=np.insert(arr,0,[2,4],axis=0) # add new element row inside data\n",
    "print(array)\n"
   ]
  },
  {
   "cell_type": "code",
   "execution_count": 5,
   "id": "5ea5f955",
   "metadata": {},
   "outputs": [
    {
     "name": "stdout",
     "output_type": "stream",
     "text": [
      "[[2 1 2]\n",
      " [4 3 4]\n",
      " [7 5 6]\n",
      " [8 7 8]]\n"
     ]
    }
   ],
   "source": [
    "arr=np.array([[1,2],\n",
    "              [3,4],\n",
    "              [5,6],\n",
    "              [7,8]])\n",
    "array=np.insert(arr,0,[2,4,7,8],axis=1) # add new element in 0th column inside data\n",
    "print(array)\n"
   ]
  },
  {
   "cell_type": "markdown",
   "id": "2031ec82",
   "metadata": {},
   "source": [
    "## Append\n",
    "##### np.append(arr,[elments]) add elments at the and of Array"
   ]
  },
  {
   "cell_type": "code",
   "execution_count": 6,
   "id": "c89cc7dd",
   "metadata": {},
   "outputs": [
    {
     "name": "stdout",
     "output_type": "stream",
     "text": [
      "[ 1  2  3  4  5  6  7  8  9 10 11]\n"
     ]
    }
   ],
   "source": [
    "arr=np.array([1,2,3,4,5,6,7,8])\n",
    "print(np.append(arr,[9,10,11]))"
   ]
  },
  {
   "cell_type": "code",
   "execution_count": null,
   "id": "e324d095",
   "metadata": {},
   "outputs": [],
   "source": []
  },
  {
   "cell_type": "markdown",
   "id": "04227103",
   "metadata": {},
   "source": [
    "## Concatenate"
   ]
  },
  {
   "cell_type": "markdown",
   "id": "7fffe119",
   "metadata": {},
   "source": [
    "##### np.concatenate((array1,array2),axis=0) for 1d array axis is by default\n",
    "\n"
   ]
  },
  {
   "cell_type": "code",
   "execution_count": 15,
   "id": "87b09cf9",
   "metadata": {},
   "outputs": [
    {
     "name": "stdout",
     "output_type": "stream",
     "text": [
      "[1 2 3 4 5 6 7 8]\n"
     ]
    }
   ],
   "source": [
    "arr1=np.array([1,2,3,4])\n",
    "arr2=np.array([5,6,7,8])\n",
    "print(np.concatenate((arr1,arr2)))\n",
    "\n"
   ]
  },
  {
   "cell_type": "markdown",
   "id": "738e9054",
   "metadata": {},
   "source": [
    "## Remove Elemet from array\n"
   ]
  },
  {
   "cell_type": "markdown",
   "id": "6e6b0837",
   "metadata": {},
   "source": [
    "#### np.delete(array,index,axis=none)"
   ]
  },
  {
   "cell_type": "code",
   "execution_count": 8,
   "id": "90563398",
   "metadata": {},
   "outputs": [
    {
     "name": "stdout",
     "output_type": "stream",
     "text": [
      "[1 2 3 4]\n",
      "[1 3 4]\n"
     ]
    }
   ],
   "source": [
    "arr=np.array([1,2,3,4])\n",
    "print(arr)\n",
    "arr=np.delete(arr,1)\n",
    "print(arr) # 2 element is deleted from array"
   ]
  },
  {
   "cell_type": "markdown",
   "id": "294cfc44",
   "metadata": {},
   "source": [
    "#### Delete_2d"
   ]
  },
  {
   "cell_type": "code",
   "execution_count": null,
   "id": "2b50d2fd",
   "metadata": {},
   "outputs": [
    {
     "name": "stdout",
     "output_type": "stream",
     "text": [
      "[[1]\n",
      " [3]\n",
      " [5]\n",
      " [7]]\n"
     ]
    }
   ],
   "source": [
    "arr=np.array([[1,2],\n",
    "              [3,4],\n",
    "              [5,6],\n",
    "              [7,8]])\n",
    "array=np.delete(arr,1,axis=1) # remove elments from 1st index column means 2,4,6,8\n",
    "print(array)"
   ]
  },
  {
   "cell_type": "code",
   "execution_count": null,
   "id": "225f90b5",
   "metadata": {},
   "outputs": [
    {
     "name": "stdout",
     "output_type": "stream",
     "text": [
      "[[1 2]\n",
      " [5 6]\n",
      " [7 8]]\n"
     ]
    }
   ],
   "source": [
    "arr=np.array([[1,2],\n",
    "              [3,4],\n",
    "              [5,6],\n",
    "              [7,8]])\n",
    "array=np.delete(arr,1,axis=0) # remove 1st index row mean[3,4]\n",
    "print(array)"
   ]
  },
  {
   "cell_type": "markdown",
   "id": "249bc4ba",
   "metadata": {},
   "source": [
    "### Stacking \n",
    "#### hstack np.hstack((arr1,arr2)) use double bracket it combine arrays horizontally\n",
    "#### vstack np.vstack((arr1,arr2)) use double bracket it combine arrays vertically like in 2d"
   ]
  },
  {
   "cell_type": "code",
   "execution_count": 17,
   "id": "f94f412c",
   "metadata": {},
   "outputs": [
    {
     "name": "stdout",
     "output_type": "stream",
     "text": [
      "[[1 2 3 4]\n",
      " [5 6 7 8]]\n",
      "[1 2 3 4 5 6 7 8]\n"
     ]
    }
   ],
   "source": [
    "arr1=np.array([1,2,3,4])\n",
    "arr2=np.array([5,6,7,8])\n",
    "print(np.vstack((arr1,arr2)))\n",
    "print(np.hstack((arr1,arr2)))\n",
    "\n",
    "\n"
   ]
  },
  {
   "cell_type": "markdown",
   "id": "04509437",
   "metadata": {},
   "source": [
    "### Splitting\n",
    "#### np.split() equally split the array  (np.hsplit(for horizontal split), np.vsplit(for vertical split))"
   ]
  },
  {
   "cell_type": "code",
   "execution_count": null,
   "id": "95ec96bd",
   "metadata": {},
   "outputs": [
    {
     "name": "stdout",
     "output_type": "stream",
     "text": [
      "[array([4, 6, 8, 9]), array([10, 22, 33,  4])]\n",
      "[array([4, 6, 8, 9]), array([10, 22, 33,  4])]\n"
     ]
    }
   ],
   "source": [
    "arr=np.array([4,6,8,9,10,22,33,4])\n",
    "print(np.split(arr,2)) # Split the array in two parts it works for all dimensional arrays\n",
    "print(np.hsplit(arr,2)) # Split the array in two parts\n",
    "\n",
    "## example \n"
   ]
  },
  {
   "cell_type": "code",
   "execution_count": null,
   "id": "85ffab04",
   "metadata": {},
   "outputs": [
    {
     "name": "stdout",
     "output_type": "stream",
     "text": [
      "[array([[1, 2],\n",
      "       [3, 4]]), array([[5, 6],\n",
      "       [7, 8]])]\n",
      "[array([[1],\n",
      "       [3],\n",
      "       [5],\n",
      "       [7]]), array([[2],\n",
      "       [4],\n",
      "       [6],\n",
      "       [8]])]\n",
      "[array([[1],\n",
      "       [3],\n",
      "       [5],\n",
      "       [7]]), array([[2],\n",
      "       [4],\n",
      "       [6],\n",
      "       [8]])]\n"
     ]
    }
   ],
   "source": [
    "arr=np.array([[1,2],\n",
    "              [3,4],\n",
    "              [5,6],\n",
    "              [7,8]])\n",
    "\n",
    "print(np.vsplit(arr,2)) # it split array and split into 2 sub array by row \n",
    "print(np.split(arr, 2, axis=1)) # it split array  in to two subarray (with thier own subarrays) xby columns\n",
    "print(np.hsplit(arr, 2)) "
   ]
  },
  {
   "cell_type": "code",
   "execution_count": null,
   "id": "29496c82",
   "metadata": {},
   "outputs": [],
   "source": []
  },
  {
   "cell_type": "code",
   "execution_count": null,
   "id": "1619f987",
   "metadata": {},
   "outputs": [],
   "source": []
  }
 ],
 "metadata": {
  "kernelspec": {
   "display_name": "Python 3",
   "language": "python",
   "name": "python3"
  },
  "language_info": {
   "codemirror_mode": {
    "name": "ipython",
    "version": 3
   },
   "file_extension": ".py",
   "mimetype": "text/x-python",
   "name": "python",
   "nbconvert_exporter": "python",
   "pygments_lexer": "ipython3",
   "version": "3.11.4"
  }
 },
 "nbformat": 4,
 "nbformat_minor": 5
}
