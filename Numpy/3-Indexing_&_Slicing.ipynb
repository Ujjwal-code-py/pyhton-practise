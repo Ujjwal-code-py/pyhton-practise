{
 "cells": [
  {
   "cell_type": "markdown",
   "id": "44c6f2f6",
   "metadata": {},
   "source": [
    "### Indexing\n"
   ]
  },
  {
   "cell_type": "markdown",
   "id": "3de76aeb",
   "metadata": {},
   "source": [
    "##### array[index] # 1d array\n",
    "##### array[row,column] # 2d array"
   ]
  },
  {
   "cell_type": "code",
   "execution_count": 1,
   "id": "a7bf3c15",
   "metadata": {},
   "outputs": [],
   "source": [
    "import numpy as np"
   ]
  },
  {
   "cell_type": "code",
   "execution_count": 5,
   "id": "1a6f6926",
   "metadata": {},
   "outputs": [
    {
     "name": "stdout",
     "output_type": "stream",
     "text": [
      "4\n",
      "5\n"
     ]
    }
   ],
   "source": [
    "arr=np.array([1,2,3,4,5])\n",
    "print(arr[3]) # 4th element \n",
    "print(arr[-1]) # last Element"
   ]
  },
  {
   "cell_type": "code",
   "execution_count": null,
   "id": "169a208f",
   "metadata": {},
   "outputs": [
    {
     "name": "stdout",
     "output_type": "stream",
     "text": [
      "[5 4 3 2 1]\n"
     ]
    }
   ],
   "source": [
    "print(arr[::-1]) # reverse list"
   ]
  },
  {
   "cell_type": "markdown",
   "id": "971516c1",
   "metadata": {},
   "source": [
    "### Slicing\n",
    "\n",
    "##### arr[Start:stop:step] # Stop is Excluded\n",
    "##### arr[Start:end] start to end-1"
   ]
  },
  {
   "cell_type": "code",
   "execution_count": null,
   "id": "c50e8f8a",
   "metadata": {},
   "outputs": [
    {
     "name": "stdout",
     "output_type": "stream",
     "text": [
      "[1 3]\n"
     ]
    }
   ],
   "source": [
    "\n",
    "arr=np.array([1,2,3,4,5])\n",
    "print(arr[0:3:2]) \n",
    "print(arr[:3]) #index 0 to 2\n",
    "print(arr[::2]) # every secound elment\n",
    "\n",
    "print(arr[::-1]) # reverse of element\n",
    "    \n",
    "\n",
    "\n"
   ]
  },
  {
   "cell_type": "markdown",
   "id": "9c123874",
   "metadata": {},
   "source": [
    "#### Fancy indexing (Selecting multiple elements at once)"
   ]
  },
  {
   "cell_type": "code",
   "execution_count": 12,
   "id": "f38212ae",
   "metadata": {},
   "outputs": [
    {
     "name": "stdout",
     "output_type": "stream",
     "text": [
      "[1 3 5]\n"
     ]
    }
   ],
   "source": [
    "arr=np.array([1,2,3,4,5,6])\n",
    "print(arr[[0,2,4]]) # it create a copy no changes in original array\n"
   ]
  },
  {
   "cell_type": "markdown",
   "id": "3a3e5361",
   "metadata": {},
   "source": [
    "#### Filtering( Bolean masking ) (Means conditions )"
   ]
  },
  {
   "cell_type": "code",
   "execution_count": 15,
   "id": "7e792bc8",
   "metadata": {},
   "outputs": [
    {
     "name": "stdout",
     "output_type": "stream",
     "text": [
      "[3 4 5 6]\n"
     ]
    }
   ],
   "source": [
    "arr=np.array([1,2,3,4,5,6])\n",
    "print(arr[arr>2]) # all elements in array >2 are printed"
   ]
  },
  {
   "cell_type": "code",
   "execution_count": null,
   "id": "0dae01e2",
   "metadata": {},
   "outputs": [],
   "source": []
  }
 ],
 "metadata": {
  "kernelspec": {
   "display_name": "Python 3",
   "language": "python",
   "name": "python3"
  },
  "language_info": {
   "codemirror_mode": {
    "name": "ipython",
    "version": 3
   },
   "file_extension": ".py",
   "mimetype": "text/x-python",
   "name": "python",
   "nbconvert_exporter": "python",
   "pygments_lexer": "ipython3",
   "version": "3.11.4"
  }
 },
 "nbformat": 4,
 "nbformat_minor": 5
}
