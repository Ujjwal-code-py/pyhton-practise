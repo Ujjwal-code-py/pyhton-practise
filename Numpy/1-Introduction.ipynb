{
 "cells": [
  {
   "cell_type": "markdown",
   "id": "25672cb1",
   "metadata": {},
   "source": [
    "#### Introduction "
   ]
  },
  {
   "cell_type": "code",
   "execution_count": 1,
   "id": "8dc26082",
   "metadata": {},
   "outputs": [],
   "source": [
    "import numpy as np"
   ]
  },
  {
   "cell_type": "code",
   "execution_count": 2,
   "id": "6fd267c5",
   "metadata": {},
   "outputs": [],
   "source": [
    "numpy_array=np.array([1,2,5,6,7,8])"
   ]
  },
  {
   "cell_type": "code",
   "execution_count": 3,
   "id": "4688008b",
   "metadata": {},
   "outputs": [
    {
     "name": "stdout",
     "output_type": "stream",
     "text": [
      "[1 2 5 6 7 8]\n"
     ]
    }
   ],
   "source": [
    "print(numpy_array)"
   ]
  },
  {
   "cell_type": "code",
   "execution_count": 4,
   "id": "1c4a773a",
   "metadata": {},
   "outputs": [],
   "source": [
    "list=[1,2,3,4,5]"
   ]
  },
  {
   "cell_type": "code",
   "execution_count": 5,
   "id": "209b74a7",
   "metadata": {},
   "outputs": [
    {
     "name": "stdout",
     "output_type": "stream",
     "text": [
      "[1, 2, 3, 4, 5]\n"
     ]
    }
   ],
   "source": [
    "print(list)"
   ]
  },
  {
   "cell_type": "markdown",
   "id": "0d6cb3fb",
   "metadata": {},
   "source": [
    "##### Above you see the difference between list and array. list is stored with  , where array is without , it uses less space"
   ]
  },
  {
   "cell_type": "code",
   "execution_count": null,
   "id": "a546d14d",
   "metadata": {},
   "outputs": [],
   "source": []
  },
  {
   "cell_type": "markdown",
   "id": "120241f5",
   "metadata": {},
   "source": [
    "##### 1D Array is list of number store in a row"
   ]
  },
  {
   "cell_type": "code",
   "execution_count": 6,
   "id": "dca0925b",
   "metadata": {},
   "outputs": [
    {
     "name": "stdout",
     "output_type": "stream",
     "text": [
      "[1 2 5 6 7 8]\n"
     ]
    }
   ],
   "source": [
    "numpy_array=np.array([1,2,5,6,7,8])\n",
    "print(numpy_array)"
   ]
  },
  {
   "cell_type": "markdown",
   "id": "cd103e06",
   "metadata": {},
   "source": [
    "##### 2d Array is collection of rows and columns"
   ]
  },
  {
   "cell_type": "code",
   "execution_count": 7,
   "id": "58868a56",
   "metadata": {},
   "outputs": [
    {
     "name": "stdout",
     "output_type": "stream",
     "text": [
      "[[1 2 3]\n",
      " [3 4 5]\n",
      " [4 5 6]]\n"
     ]
    }
   ],
   "source": [
    "arr_2d=np.array([[1,2,3],\n",
    "                 [3,4,5],\n",
    "                 [4,5,6]])\n",
    "\n",
    "print(arr_2d)"
   ]
  },
  {
   "cell_type": "markdown",
   "id": "98d11488",
   "metadata": {},
   "source": [
    "##### Multi dimensional Array \n",
    "##### Matrix"
   ]
  },
  {
   "cell_type": "code",
   "execution_count": 8,
   "id": "18a6e690",
   "metadata": {},
   "outputs": [
    {
     "name": "stdout",
     "output_type": "stream",
     "text": [
      "[[8 4 5]\n",
      " [2 2 3]]\n"
     ]
    }
   ],
   "source": [
    "matrix=np.array([[8,4,5],\n",
    "                 [2,2,3]])\n",
    "print(matrix)"
   ]
  },
  {
   "cell_type": "markdown",
   "id": "14233ca4",
   "metadata": {},
   "source": [
    "##### With default values (0) np.zeros(shape) then three value will be zero"
   ]
  },
  {
   "cell_type": "code",
   "execution_count": 9,
   "id": "5a945518",
   "metadata": {},
   "outputs": [
    {
     "name": "stdout",
     "output_type": "stream",
     "text": [
      "[0. 0. 0.]\n"
     ]
    }
   ],
   "source": [
    "default_array=np.zeros(3)\n",
    "print(default_array)"
   ]
  },
  {
   "cell_type": "markdown",
   "id": "0acc0755",
   "metadata": {},
   "source": [
    "##### Same for one if you want default value one np.ones(shape)"
   ]
  },
  {
   "cell_type": "code",
   "execution_count": 10,
   "id": "84ac91ff",
   "metadata": {},
   "outputs": [
    {
     "name": "stdout",
     "output_type": "stream",
     "text": [
      "[[1. 1. 1.]\n",
      " [1. 1. 1.]]\n"
     ]
    }
   ],
   "source": [
    "ones_array=np.ones((2,3))\n",
    "print(ones_array)"
   ]
  },
  {
   "cell_type": "markdown",
   "id": "948b47a6",
   "metadata": {},
   "source": [
    "##### If you want other values like 2,3 etc Then we use np.full(shape,value)"
   ]
  },
  {
   "cell_type": "code",
   "execution_count": 12,
   "id": "6a50489e",
   "metadata": {},
   "outputs": [
    {
     "name": "stdout",
     "output_type": "stream",
     "text": [
      "[[5 5 5 5]\n",
      " [5 5 5 5]]\n"
     ]
    }
   ],
   "source": [
    "filled_values=np.full((2,4),5)\n",
    "print(filled_values)"
   ]
  },
  {
   "cell_type": "markdown",
   "id": "96d78ca3",
   "metadata": {},
   "source": [
    "##### Creating a sequence of numbers in numpy\n",
    "##### np.arange()\n",
    "##### np.arange(start,stop,step)"
   ]
  },
  {
   "cell_type": "code",
   "execution_count": 14,
   "id": "8cf37422",
   "metadata": {},
   "outputs": [
    {
     "name": "stdout",
     "output_type": "stream",
     "text": [
      "[ 1  4  7 10 13 16]\n"
     ]
    }
   ],
   "source": [
    "arr=np.arange(1,19,3)\n",
    "print(arr)"
   ]
  },
  {
   "cell_type": "markdown",
   "id": "5a243ae3",
   "metadata": {},
   "source": [
    "##### Creating a identity matrix (all diagonal element is one)\n",
    "##### np.eye(size)"
   ]
  },
  {
   "cell_type": "code",
   "execution_count": 16,
   "id": "9c8ccd3f",
   "metadata": {},
   "outputs": [
    {
     "name": "stdout",
     "output_type": "stream",
     "text": [
      "[[1. 0. 0. 0. 0.]\n",
      " [0. 1. 0. 0. 0.]\n",
      " [0. 0. 1. 0. 0.]\n",
      " [0. 0. 0. 1. 0.]\n",
      " [0. 0. 0. 0. 1.]]\n"
     ]
    }
   ],
   "source": [
    "identity_mat=np.eye(5)\n",
    "print(identity_mat)"
   ]
  },
  {
   "cell_type": "code",
   "execution_count": null,
   "id": "4b515a52",
   "metadata": {},
   "outputs": [],
   "source": []
  }
 ],
 "metadata": {
  "kernelspec": {
   "display_name": "Python 3",
   "language": "python",
   "name": "python3"
  },
  "language_info": {
   "codemirror_mode": {
    "name": "ipython",
    "version": 3
   },
   "file_extension": ".py",
   "mimetype": "text/x-python",
   "name": "python",
   "nbconvert_exporter": "python",
   "pygments_lexer": "ipython3",
   "version": "3.11.4"
  }
 },
 "nbformat": 4,
 "nbformat_minor": 5
}
