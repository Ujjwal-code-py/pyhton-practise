{
 "cells": [
  {
   "cell_type": "markdown",
   "id": "b4b4601e",
   "metadata": {},
   "source": [
    "## Reshapeing"
   ]
  },
  {
   "cell_type": "markdown",
   "id": "5839bd71",
   "metadata": {},
   "source": [
    "#### Reshaping-Change dimension of array without modifhy its data (ex 1d-> 2d) \n",
    "#### arr.reshape(rows,columns) specify new shape\n",
    "#### if dimension matches"
   ]
  },
  {
   "cell_type": "code",
   "execution_count": 4,
   "id": "4dd2fd92",
   "metadata": {},
   "outputs": [],
   "source": [
    "import numpy as np"
   ]
  },
  {
   "cell_type": "code",
   "execution_count": 6,
   "id": "bf068a0f",
   "metadata": {},
   "outputs": [
    {
     "name": "stdout",
     "output_type": "stream",
     "text": [
      "[[1 2 3 4]\n",
      " [5 6 7 8]]\n"
     ]
    }
   ],
   "source": [
    "arr=np.array([1,2,3,4,5,6,7,8])\n",
    "new_arr=arr.reshape(2,4)\n",
    "print(new_arr) # total elements are same\n",
    "\n",
    "# it doesn't create  copy it gives view means it affect array"
   ]
  },
  {
   "cell_type": "markdown",
   "id": "06aa01e1",
   "metadata": {},
   "source": [
    "### Flattening\n",
    "\n",
    "#### .ravel()-> view \n",
    "#### .flatten()-> copy"
   ]
  },
  {
   "cell_type": "code",
   "execution_count": null,
   "id": "a22f25c5",
   "metadata": {},
   "outputs": [
    {
     "name": "stdout",
     "output_type": "stream",
     "text": [
      "[1 2 3 4 5 6 7 8]\n",
      "[1 2 3 4 5 6 7 8]\n"
     ]
    }
   ],
   "source": [
    "arr=np.array([[1,2,3,4],\n",
    "              [5,6,7,8]])\n",
    "print(arr.ravel()) # view\n",
    "print(arr.flatten()) # flatten  no argument is passed inside() it return 1d array"
   ]
  },
  {
   "cell_type": "code",
   "execution_count": null,
   "id": "fbc16085",
   "metadata": {},
   "outputs": [],
   "source": []
  },
  {
   "cell_type": "code",
   "execution_count": null,
   "id": "305e3b48",
   "metadata": {},
   "outputs": [],
   "source": []
  }
 ],
 "metadata": {
  "kernelspec": {
   "display_name": "Python 3",
   "language": "python",
   "name": "python3"
  },
  "language_info": {
   "codemirror_mode": {
    "name": "ipython",
    "version": 3
   },
   "file_extension": ".py",
   "mimetype": "text/x-python",
   "name": "python",
   "nbconvert_exporter": "python",
   "pygments_lexer": "ipython3",
   "version": "3.11.4"
  }
 },
 "nbformat": 4,
 "nbformat_minor": 5
}
