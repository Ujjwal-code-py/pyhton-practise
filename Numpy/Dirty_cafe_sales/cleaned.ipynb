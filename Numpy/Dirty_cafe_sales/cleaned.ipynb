{
 "cells": [
  {
   "cell_type": "code",
   "execution_count": 106,
   "id": "49de642a",
   "metadata": {},
   "outputs": [],
   "source": [
    "import pandas as pd\n",
    "import numpy as np\n"
   ]
  },
  {
   "cell_type": "code",
   "execution_count": 107,
   "id": "722cc774",
   "metadata": {},
   "outputs": [],
   "source": [
    "df=pd.read_csv(\"dirty_cafe_sales.csv\")"
   ]
  },
  {
   "cell_type": "code",
   "execution_count": 108,
   "id": "4679db00",
   "metadata": {},
   "outputs": [
    {
     "data": {
      "text/html": [
       "<div>\n",
       "<style scoped>\n",
       "    .dataframe tbody tr th:only-of-type {\n",
       "        vertical-align: middle;\n",
       "    }\n",
       "\n",
       "    .dataframe tbody tr th {\n",
       "        vertical-align: top;\n",
       "    }\n",
       "\n",
       "    .dataframe thead th {\n",
       "        text-align: right;\n",
       "    }\n",
       "</style>\n",
       "<table border=\"1\" class=\"dataframe\">\n",
       "  <thead>\n",
       "    <tr style=\"text-align: right;\">\n",
       "      <th></th>\n",
       "      <th>Transaction ID</th>\n",
       "      <th>Item</th>\n",
       "      <th>Quantity</th>\n",
       "      <th>Price Per Unit</th>\n",
       "      <th>Total Spent</th>\n",
       "      <th>Payment Method</th>\n",
       "      <th>Location</th>\n",
       "      <th>Transaction Date</th>\n",
       "    </tr>\n",
       "  </thead>\n",
       "  <tbody>\n",
       "    <tr>\n",
       "      <th>0</th>\n",
       "      <td>TXN_1961373</td>\n",
       "      <td>Coffee</td>\n",
       "      <td>2</td>\n",
       "      <td>2.0</td>\n",
       "      <td>4.0</td>\n",
       "      <td>Credit Card</td>\n",
       "      <td>Takeaway</td>\n",
       "      <td>2023-09-08</td>\n",
       "    </tr>\n",
       "    <tr>\n",
       "      <th>1</th>\n",
       "      <td>TXN_4977031</td>\n",
       "      <td>Cake</td>\n",
       "      <td>4</td>\n",
       "      <td>3.0</td>\n",
       "      <td>12.0</td>\n",
       "      <td>Cash</td>\n",
       "      <td>In-store</td>\n",
       "      <td>2023-05-16</td>\n",
       "    </tr>\n",
       "    <tr>\n",
       "      <th>2</th>\n",
       "      <td>TXN_4271903</td>\n",
       "      <td>Cookie</td>\n",
       "      <td>4</td>\n",
       "      <td>1.0</td>\n",
       "      <td>ERROR</td>\n",
       "      <td>Credit Card</td>\n",
       "      <td>In-store</td>\n",
       "      <td>2023-07-19</td>\n",
       "    </tr>\n",
       "    <tr>\n",
       "      <th>3</th>\n",
       "      <td>TXN_7034554</td>\n",
       "      <td>Salad</td>\n",
       "      <td>2</td>\n",
       "      <td>5.0</td>\n",
       "      <td>10.0</td>\n",
       "      <td>UNKNOWN</td>\n",
       "      <td>UNKNOWN</td>\n",
       "      <td>2023-04-27</td>\n",
       "    </tr>\n",
       "    <tr>\n",
       "      <th>4</th>\n",
       "      <td>TXN_3160411</td>\n",
       "      <td>Coffee</td>\n",
       "      <td>2</td>\n",
       "      <td>2.0</td>\n",
       "      <td>4.0</td>\n",
       "      <td>Digital Wallet</td>\n",
       "      <td>In-store</td>\n",
       "      <td>2023-06-11</td>\n",
       "    </tr>\n",
       "  </tbody>\n",
       "</table>\n",
       "</div>"
      ],
      "text/plain": [
       "  Transaction ID    Item Quantity Price Per Unit Total Spent  Payment Method  \\\n",
       "0    TXN_1961373  Coffee        2            2.0         4.0     Credit Card   \n",
       "1    TXN_4977031    Cake        4            3.0        12.0            Cash   \n",
       "2    TXN_4271903  Cookie        4            1.0       ERROR     Credit Card   \n",
       "3    TXN_7034554   Salad        2            5.0        10.0         UNKNOWN   \n",
       "4    TXN_3160411  Coffee        2            2.0         4.0  Digital Wallet   \n",
       "\n",
       "   Location Transaction Date  \n",
       "0  Takeaway       2023-09-08  \n",
       "1  In-store       2023-05-16  \n",
       "2  In-store       2023-07-19  \n",
       "3   UNKNOWN       2023-04-27  \n",
       "4  In-store       2023-06-11  "
      ]
     },
     "execution_count": 108,
     "metadata": {},
     "output_type": "execute_result"
    }
   ],
   "source": [
    "df.head()"
   ]
  },
  {
   "cell_type": "code",
   "execution_count": 109,
   "id": "ff821da6",
   "metadata": {},
   "outputs": [
    {
     "data": {
      "text/html": [
       "<div>\n",
       "<style scoped>\n",
       "    .dataframe tbody tr th:only-of-type {\n",
       "        vertical-align: middle;\n",
       "    }\n",
       "\n",
       "    .dataframe tbody tr th {\n",
       "        vertical-align: top;\n",
       "    }\n",
       "\n",
       "    .dataframe thead th {\n",
       "        text-align: right;\n",
       "    }\n",
       "</style>\n",
       "<table border=\"1\" class=\"dataframe\">\n",
       "  <thead>\n",
       "    <tr style=\"text-align: right;\">\n",
       "      <th></th>\n",
       "      <th>Transaction ID</th>\n",
       "      <th>Item</th>\n",
       "      <th>Quantity</th>\n",
       "      <th>Price Per Unit</th>\n",
       "      <th>Total Spent</th>\n",
       "      <th>Payment Method</th>\n",
       "      <th>Location</th>\n",
       "      <th>Transaction Date</th>\n",
       "    </tr>\n",
       "  </thead>\n",
       "  <tbody>\n",
       "    <tr>\n",
       "      <th>count</th>\n",
       "      <td>10000</td>\n",
       "      <td>9667</td>\n",
       "      <td>9862</td>\n",
       "      <td>9821</td>\n",
       "      <td>9827</td>\n",
       "      <td>7421</td>\n",
       "      <td>6735</td>\n",
       "      <td>9841</td>\n",
       "    </tr>\n",
       "    <tr>\n",
       "      <th>unique</th>\n",
       "      <td>10000</td>\n",
       "      <td>10</td>\n",
       "      <td>7</td>\n",
       "      <td>8</td>\n",
       "      <td>19</td>\n",
       "      <td>5</td>\n",
       "      <td>4</td>\n",
       "      <td>367</td>\n",
       "    </tr>\n",
       "    <tr>\n",
       "      <th>top</th>\n",
       "      <td>TXN_9226047</td>\n",
       "      <td>Juice</td>\n",
       "      <td>5</td>\n",
       "      <td>3.0</td>\n",
       "      <td>6.0</td>\n",
       "      <td>Digital Wallet</td>\n",
       "      <td>Takeaway</td>\n",
       "      <td>UNKNOWN</td>\n",
       "    </tr>\n",
       "    <tr>\n",
       "      <th>freq</th>\n",
       "      <td>1</td>\n",
       "      <td>1171</td>\n",
       "      <td>2013</td>\n",
       "      <td>2429</td>\n",
       "      <td>979</td>\n",
       "      <td>2291</td>\n",
       "      <td>3022</td>\n",
       "      <td>159</td>\n",
       "    </tr>\n",
       "  </tbody>\n",
       "</table>\n",
       "</div>"
      ],
      "text/plain": [
       "       Transaction ID   Item Quantity Price Per Unit Total Spent  \\\n",
       "count           10000   9667     9862           9821        9827   \n",
       "unique          10000     10        7              8          19   \n",
       "top       TXN_9226047  Juice        5            3.0         6.0   \n",
       "freq                1   1171     2013           2429         979   \n",
       "\n",
       "        Payment Method  Location Transaction Date  \n",
       "count             7421      6735             9841  \n",
       "unique               5         4              367  \n",
       "top     Digital Wallet  Takeaway          UNKNOWN  \n",
       "freq              2291      3022              159  "
      ]
     },
     "execution_count": 109,
     "metadata": {},
     "output_type": "execute_result"
    }
   ],
   "source": [
    "df.describe()"
   ]
  },
  {
   "cell_type": "code",
   "execution_count": 110,
   "id": "a0367b4f",
   "metadata": {},
   "outputs": [
    {
     "name": "stdout",
     "output_type": "stream",
     "text": [
      "<class 'pandas.core.frame.DataFrame'>\n",
      "RangeIndex: 10000 entries, 0 to 9999\n",
      "Data columns (total 8 columns):\n",
      " #   Column            Non-Null Count  Dtype \n",
      "---  ------            --------------  ----- \n",
      " 0   Transaction ID    10000 non-null  object\n",
      " 1   Item              9667 non-null   object\n",
      " 2   Quantity          9862 non-null   object\n",
      " 3   Price Per Unit    9821 non-null   object\n",
      " 4   Total Spent       9827 non-null   object\n",
      " 5   Payment Method    7421 non-null   object\n",
      " 6   Location          6735 non-null   object\n",
      " 7   Transaction Date  9841 non-null   object\n",
      "dtypes: object(8)\n",
      "memory usage: 625.1+ KB\n"
     ]
    }
   ],
   "source": [
    "df.info()"
   ]
  },
  {
   "cell_type": "code",
   "execution_count": 111,
   "id": "fc7fee91",
   "metadata": {},
   "outputs": [],
   "source": [
    "df['Price Per Unit']=pd.to_numeric(df['Price Per Unit'],errors='coerce').round().astype('Int64')"
   ]
  },
  {
   "cell_type": "code",
   "execution_count": 112,
   "id": "2f04ceb3",
   "metadata": {},
   "outputs": [
    {
     "data": {
      "text/plain": [
       "np.int64(533)"
      ]
     },
     "execution_count": 112,
     "metadata": {},
     "output_type": "execute_result"
    }
   ],
   "source": [
    "df['Price Per Unit'].isna().sum()"
   ]
  },
  {
   "cell_type": "code",
   "execution_count": 113,
   "id": "08342490",
   "metadata": {},
   "outputs": [
    {
     "data": {
      "text/plain": [
       "np.int64(533)"
      ]
     },
     "execution_count": 113,
     "metadata": {},
     "output_type": "execute_result"
    }
   ],
   "source": [
    "df['Price Per Unit'].isnull().sum()"
   ]
  },
  {
   "cell_type": "code",
   "execution_count": 114,
   "id": "c5f01c56",
   "metadata": {},
   "outputs": [],
   "source": [
    "df['Price Per Unit']=df['Price Per Unit'].fillna(round(df['Price Per Unit'].mean()))"
   ]
  },
  {
   "cell_type": "code",
   "execution_count": 115,
   "id": "7460344e",
   "metadata": {},
   "outputs": [
    {
     "data": {
      "text/html": [
       "<div>\n",
       "<style scoped>\n",
       "    .dataframe tbody tr th:only-of-type {\n",
       "        vertical-align: middle;\n",
       "    }\n",
       "\n",
       "    .dataframe tbody tr th {\n",
       "        vertical-align: top;\n",
       "    }\n",
       "\n",
       "    .dataframe thead th {\n",
       "        text-align: right;\n",
       "    }\n",
       "</style>\n",
       "<table border=\"1\" class=\"dataframe\">\n",
       "  <thead>\n",
       "    <tr style=\"text-align: right;\">\n",
       "      <th></th>\n",
       "      <th>Transaction ID</th>\n",
       "      <th>Item</th>\n",
       "      <th>Quantity</th>\n",
       "      <th>Price Per Unit</th>\n",
       "      <th>Total Spent</th>\n",
       "      <th>Payment Method</th>\n",
       "      <th>Location</th>\n",
       "      <th>Transaction Date</th>\n",
       "    </tr>\n",
       "  </thead>\n",
       "  <tbody>\n",
       "    <tr>\n",
       "      <th>585</th>\n",
       "      <td>TXN_1353479</td>\n",
       "      <td>Smoothie</td>\n",
       "      <td>4</td>\n",
       "      <td>4</td>\n",
       "      <td>16.0</td>\n",
       "      <td>Cash</td>\n",
       "      <td>NaN</td>\n",
       "      <td>2023-09-20</td>\n",
       "    </tr>\n",
       "    <tr>\n",
       "      <th>9447</th>\n",
       "      <td>TXN_1946773</td>\n",
       "      <td>Sandwich</td>\n",
       "      <td>4</td>\n",
       "      <td>4</td>\n",
       "      <td>16.0</td>\n",
       "      <td>Cash</td>\n",
       "      <td>NaN</td>\n",
       "      <td>2023-08-28</td>\n",
       "    </tr>\n",
       "    <tr>\n",
       "      <th>5991</th>\n",
       "      <td>TXN_2913107</td>\n",
       "      <td>UNKNOWN</td>\n",
       "      <td>4</td>\n",
       "      <td>3</td>\n",
       "      <td>8.0</td>\n",
       "      <td>NaN</td>\n",
       "      <td>In-store</td>\n",
       "      <td>2023-05-20</td>\n",
       "    </tr>\n",
       "    <tr>\n",
       "      <th>6706</th>\n",
       "      <td>TXN_5236861</td>\n",
       "      <td>Coffee</td>\n",
       "      <td>4</td>\n",
       "      <td>2</td>\n",
       "      <td>8.0</td>\n",
       "      <td>Cash</td>\n",
       "      <td>Takeaway</td>\n",
       "      <td>2023-10-27</td>\n",
       "    </tr>\n",
       "    <tr>\n",
       "      <th>9079</th>\n",
       "      <td>TXN_1891217</td>\n",
       "      <td>Tea</td>\n",
       "      <td>5</td>\n",
       "      <td>2</td>\n",
       "      <td>7.5</td>\n",
       "      <td>NaN</td>\n",
       "      <td>NaN</td>\n",
       "      <td>2023-04-02</td>\n",
       "    </tr>\n",
       "    <tr>\n",
       "      <th>7733</th>\n",
       "      <td>TXN_2107161</td>\n",
       "      <td>Cookie</td>\n",
       "      <td>4</td>\n",
       "      <td>1</td>\n",
       "      <td>4.0</td>\n",
       "      <td>Credit Card</td>\n",
       "      <td>NaN</td>\n",
       "      <td>UNKNOWN</td>\n",
       "    </tr>\n",
       "    <tr>\n",
       "      <th>7505</th>\n",
       "      <td>TXN_6881662</td>\n",
       "      <td>Salad</td>\n",
       "      <td>2</td>\n",
       "      <td>5</td>\n",
       "      <td>10.0</td>\n",
       "      <td>Digital Wallet</td>\n",
       "      <td>Takeaway</td>\n",
       "      <td>2023-07-10</td>\n",
       "    </tr>\n",
       "    <tr>\n",
       "      <th>3478</th>\n",
       "      <td>TXN_3228558</td>\n",
       "      <td>Sandwich</td>\n",
       "      <td>2</td>\n",
       "      <td>4</td>\n",
       "      <td>8.0</td>\n",
       "      <td>Credit Card</td>\n",
       "      <td>NaN</td>\n",
       "      <td>2023-12-13</td>\n",
       "    </tr>\n",
       "    <tr>\n",
       "      <th>8425</th>\n",
       "      <td>TXN_1983422</td>\n",
       "      <td>Cookie</td>\n",
       "      <td>2</td>\n",
       "      <td>1</td>\n",
       "      <td>2.0</td>\n",
       "      <td>Digital Wallet</td>\n",
       "      <td>In-store</td>\n",
       "      <td>2023-06-26</td>\n",
       "    </tr>\n",
       "    <tr>\n",
       "      <th>2410</th>\n",
       "      <td>TXN_3720223</td>\n",
       "      <td>Cake</td>\n",
       "      <td>4</td>\n",
       "      <td>3</td>\n",
       "      <td>12.0</td>\n",
       "      <td>Cash</td>\n",
       "      <td>Takeaway</td>\n",
       "      <td>2023-10-22</td>\n",
       "    </tr>\n",
       "  </tbody>\n",
       "</table>\n",
       "</div>"
      ],
      "text/plain": [
       "     Transaction ID      Item Quantity  Price Per Unit Total Spent  \\\n",
       "585     TXN_1353479  Smoothie        4               4        16.0   \n",
       "9447    TXN_1946773  Sandwich        4               4        16.0   \n",
       "5991    TXN_2913107   UNKNOWN        4               3         8.0   \n",
       "6706    TXN_5236861    Coffee        4               2         8.0   \n",
       "9079    TXN_1891217       Tea        5               2         7.5   \n",
       "7733    TXN_2107161    Cookie        4               1         4.0   \n",
       "7505    TXN_6881662     Salad        2               5        10.0   \n",
       "3478    TXN_3228558  Sandwich        2               4         8.0   \n",
       "8425    TXN_1983422    Cookie        2               1         2.0   \n",
       "2410    TXN_3720223      Cake        4               3        12.0   \n",
       "\n",
       "      Payment Method  Location Transaction Date  \n",
       "585             Cash       NaN       2023-09-20  \n",
       "9447            Cash       NaN       2023-08-28  \n",
       "5991             NaN  In-store       2023-05-20  \n",
       "6706            Cash  Takeaway       2023-10-27  \n",
       "9079             NaN       NaN       2023-04-02  \n",
       "7733     Credit Card       NaN          UNKNOWN  \n",
       "7505  Digital Wallet  Takeaway       2023-07-10  \n",
       "3478     Credit Card       NaN       2023-12-13  \n",
       "8425  Digital Wallet  In-store       2023-06-26  \n",
       "2410            Cash  Takeaway       2023-10-22  "
      ]
     },
     "execution_count": 115,
     "metadata": {},
     "output_type": "execute_result"
    }
   ],
   "source": [
    "df.sample(10)"
   ]
  },
  {
   "cell_type": "code",
   "execution_count": null,
   "id": "7881c534",
   "metadata": {},
   "outputs": [],
   "source": []
  },
  {
   "cell_type": "code",
   "execution_count": null,
   "id": "fc69cfdb",
   "metadata": {},
   "outputs": [],
   "source": []
  },
  {
   "cell_type": "code",
   "execution_count": null,
   "id": "1bf9f0bb",
   "metadata": {},
   "outputs": [],
   "source": []
  },
  {
   "cell_type": "code",
   "execution_count": 116,
   "id": "7801de39",
   "metadata": {},
   "outputs": [],
   "source": [
    "df['Quantity']=pd.to_numeric(df['Quantity'],errors='coerce').round().astype('Int64')"
   ]
  },
  {
   "cell_type": "code",
   "execution_count": 117,
   "id": "bea0be56",
   "metadata": {},
   "outputs": [
    {
     "data": {
      "text/plain": [
       "np.int64(479)"
      ]
     },
     "execution_count": 117,
     "metadata": {},
     "output_type": "execute_result"
    }
   ],
   "source": [
    "df['Quantity'].isnull().sum()"
   ]
  },
  {
   "cell_type": "code",
   "execution_count": 118,
   "id": "7d4f4c44",
   "metadata": {},
   "outputs": [],
   "source": [
    "df['Total Spent']=pd.to_numeric(df['Total Spent'],errors='coerce').round().astype('Int64')"
   ]
  },
  {
   "cell_type": "code",
   "execution_count": 119,
   "id": "dc9a48c9",
   "metadata": {},
   "outputs": [],
   "source": [
    "df['Total Spent']=df['Total Spent'].fillna(round(df['Quantity']*df['Price Per Unit']))"
   ]
  },
  {
   "cell_type": "code",
   "execution_count": 120,
   "id": "9dcbb084",
   "metadata": {},
   "outputs": [
    {
     "name": "stdout",
     "output_type": "stream",
     "text": [
      "     Transaction ID      Item  Quantity  Price Per Unit  Total Spent  \\\n",
      "236     TXN_8562645     Salad      <NA>               5         <NA>   \n",
      "278     TXN_3229409     Juice      <NA>               3         <NA>   \n",
      "641     TXN_2962976     Juice      <NA>               3         <NA>   \n",
      "738     TXN_8696094  Sandwich      <NA>               4         <NA>   \n",
      "2796    TXN_9188692      Cake      <NA>               3         <NA>   \n",
      "3203    TXN_4565754  Smoothie      <NA>               4         <NA>   \n",
      "3224    TXN_6297232    Coffee      <NA>               2         <NA>   \n",
      "3401    TXN_3251829       Tea      <NA>               2         <NA>   \n",
      "4257    TXN_6470865    Coffee      <NA>               2         <NA>   \n",
      "5841    TXN_5884081    Cookie      <NA>               1         <NA>   \n",
      "7029    TXN_4628338    Coffee      <NA>               2         <NA>   \n",
      "7297    TXN_9944500  Smoothie      <NA>               4         <NA>   \n",
      "8021    TXN_2428781     Salad      <NA>               5         <NA>   \n",
      "8443    TXN_2023651  Sandwich      <NA>               4         <NA>   \n",
      "8465    TXN_9669616    Coffee      <NA>               2         <NA>   \n",
      "8479    TXN_1547245  Sandwich      <NA>               4         <NA>   \n",
      "8574    TXN_2546684     Juice      <NA>               3         <NA>   \n",
      "8732    TXN_4550558    Cookie      <NA>               1         <NA>   \n",
      "9590    TXN_9924732  Sandwich      <NA>               4         <NA>   \n",
      "9869    TXN_1975184    Coffee      <NA>               2         <NA>   \n",
      "\n",
      "      Payment Method  Location Transaction Date  \n",
      "236              NaN  In-store       2023-05-18  \n",
      "278             Cash  Takeaway       2023-04-15  \n",
      "641              NaN       NaN       2023-03-17  \n",
      "738              NaN  Takeaway       2023-05-14  \n",
      "2796     Credit Card       NaN       2023-12-01  \n",
      "3203  Digital Wallet  Takeaway       2023-10-06  \n",
      "3224             NaN       NaN       2023-04-07  \n",
      "3401  Digital Wallet  In-store       2023-07-25  \n",
      "4257  Digital Wallet  Takeaway       2023-09-18  \n",
      "5841  Digital Wallet  In-store       2023-07-05  \n",
      "7029            Cash       NaN       2023-12-25  \n",
      "7297            Cash  In-store       2023-01-03  \n",
      "8021             NaN  In-store       2023-05-09  \n",
      "8443            Cash  In-store       2023-05-25  \n",
      "8465             NaN     ERROR       2023-06-03  \n",
      "8479             NaN  Takeaway       2023-09-11  \n",
      "8574  Digital Wallet  Takeaway       2023-04-08  \n",
      "8732     Credit Card  In-store       2023-08-04  \n",
      "9590     Credit Card  In-store       2023-01-18  \n",
      "9869  Digital Wallet       NaN       2023-01-15  \n"
     ]
    }
   ],
   "source": [
    "null_rows = df[df['Total Spent'].isnull()]\n",
    "print(null_rows)\n"
   ]
  },
  {
   "cell_type": "code",
   "execution_count": 121,
   "id": "f9192401",
   "metadata": {},
   "outputs": [],
   "source": [
    "df['Quantity']=df['Quantity'].fillna(round(df['Total Spent']//df['Price Per Unit']))"
   ]
  },
  {
   "cell_type": "code",
   "execution_count": 122,
   "id": "d638eaf6",
   "metadata": {},
   "outputs": [
    {
     "name": "stdout",
     "output_type": "stream",
     "text": [
      "     Transaction ID      Item  Quantity  Price Per Unit  Total Spent  \\\n",
      "236     TXN_8562645     Salad      <NA>               5         <NA>   \n",
      "278     TXN_3229409     Juice      <NA>               3         <NA>   \n",
      "641     TXN_2962976     Juice      <NA>               3         <NA>   \n",
      "738     TXN_8696094  Sandwich      <NA>               4         <NA>   \n",
      "2796    TXN_9188692      Cake      <NA>               3         <NA>   \n",
      "3203    TXN_4565754  Smoothie      <NA>               4         <NA>   \n",
      "3224    TXN_6297232    Coffee      <NA>               2         <NA>   \n",
      "3401    TXN_3251829       Tea      <NA>               2         <NA>   \n",
      "4257    TXN_6470865    Coffee      <NA>               2         <NA>   \n",
      "5841    TXN_5884081    Cookie      <NA>               1         <NA>   \n",
      "7029    TXN_4628338    Coffee      <NA>               2         <NA>   \n",
      "7297    TXN_9944500  Smoothie      <NA>               4         <NA>   \n",
      "8021    TXN_2428781     Salad      <NA>               5         <NA>   \n",
      "8443    TXN_2023651  Sandwich      <NA>               4         <NA>   \n",
      "8465    TXN_9669616    Coffee      <NA>               2         <NA>   \n",
      "8479    TXN_1547245  Sandwich      <NA>               4         <NA>   \n",
      "8574    TXN_2546684     Juice      <NA>               3         <NA>   \n",
      "8732    TXN_4550558    Cookie      <NA>               1         <NA>   \n",
      "9590    TXN_9924732  Sandwich      <NA>               4         <NA>   \n",
      "9869    TXN_1975184    Coffee      <NA>               2         <NA>   \n",
      "\n",
      "      Payment Method  Location Transaction Date  \n",
      "236              NaN  In-store       2023-05-18  \n",
      "278             Cash  Takeaway       2023-04-15  \n",
      "641              NaN       NaN       2023-03-17  \n",
      "738              NaN  Takeaway       2023-05-14  \n",
      "2796     Credit Card       NaN       2023-12-01  \n",
      "3203  Digital Wallet  Takeaway       2023-10-06  \n",
      "3224             NaN       NaN       2023-04-07  \n",
      "3401  Digital Wallet  In-store       2023-07-25  \n",
      "4257  Digital Wallet  Takeaway       2023-09-18  \n",
      "5841  Digital Wallet  In-store       2023-07-05  \n",
      "7029            Cash       NaN       2023-12-25  \n",
      "7297            Cash  In-store       2023-01-03  \n",
      "8021             NaN  In-store       2023-05-09  \n",
      "8443            Cash  In-store       2023-05-25  \n",
      "8465             NaN     ERROR       2023-06-03  \n",
      "8479             NaN  Takeaway       2023-09-11  \n",
      "8574  Digital Wallet  Takeaway       2023-04-08  \n",
      "8732     Credit Card  In-store       2023-08-04  \n",
      "9590     Credit Card  In-store       2023-01-18  \n",
      "9869  Digital Wallet       NaN       2023-01-15  \n"
     ]
    }
   ],
   "source": [
    "print(df[df['Quantity'].isna()])"
   ]
  },
  {
   "cell_type": "code",
   "execution_count": 123,
   "id": "99d4beca",
   "metadata": {},
   "outputs": [
    {
     "data": {
      "text/plain": [
       "np.float64(3.0203406813627254)"
      ]
     },
     "execution_count": 123,
     "metadata": {},
     "output_type": "execute_result"
    }
   ],
   "source": [
    "df['Quantity'].mean()"
   ]
  },
  {
   "cell_type": "code",
   "execution_count": 124,
   "id": "2d40a0c9",
   "metadata": {},
   "outputs": [],
   "source": [
    "df['Quantity']=df['Quantity'].fillna(round(df['Quantity'].mean()))"
   ]
  },
  {
   "cell_type": "code",
   "execution_count": 125,
   "id": "45b24425",
   "metadata": {},
   "outputs": [],
   "source": [
    "df['Total Spent']=df['Total Spent'].fillna(round(df['Quantity']*df['Price Per Unit']))"
   ]
  },
  {
   "cell_type": "code",
   "execution_count": 126,
   "id": "828007b7",
   "metadata": {},
   "outputs": [
    {
     "data": {
      "text/html": [
       "<div>\n",
       "<style scoped>\n",
       "    .dataframe tbody tr th:only-of-type {\n",
       "        vertical-align: middle;\n",
       "    }\n",
       "\n",
       "    .dataframe tbody tr th {\n",
       "        vertical-align: top;\n",
       "    }\n",
       "\n",
       "    .dataframe thead th {\n",
       "        text-align: right;\n",
       "    }\n",
       "</style>\n",
       "<table border=\"1\" class=\"dataframe\">\n",
       "  <thead>\n",
       "    <tr style=\"text-align: right;\">\n",
       "      <th></th>\n",
       "      <th>Transaction ID</th>\n",
       "      <th>Item</th>\n",
       "      <th>Quantity</th>\n",
       "      <th>Price Per Unit</th>\n",
       "      <th>Total Spent</th>\n",
       "      <th>Payment Method</th>\n",
       "      <th>Location</th>\n",
       "      <th>Transaction Date</th>\n",
       "    </tr>\n",
       "  </thead>\n",
       "  <tbody>\n",
       "    <tr>\n",
       "      <th>2177</th>\n",
       "      <td>TXN_4650044</td>\n",
       "      <td>Cookie</td>\n",
       "      <td>4</td>\n",
       "      <td>1</td>\n",
       "      <td>4</td>\n",
       "      <td>Cash</td>\n",
       "      <td>NaN</td>\n",
       "      <td>2023-06-21</td>\n",
       "    </tr>\n",
       "    <tr>\n",
       "      <th>5556</th>\n",
       "      <td>TXN_9382596</td>\n",
       "      <td>Smoothie</td>\n",
       "      <td>5</td>\n",
       "      <td>4</td>\n",
       "      <td>20</td>\n",
       "      <td>Credit Card</td>\n",
       "      <td>Takeaway</td>\n",
       "      <td>2023-11-18</td>\n",
       "    </tr>\n",
       "    <tr>\n",
       "      <th>7928</th>\n",
       "      <td>TXN_7308629</td>\n",
       "      <td>Salad</td>\n",
       "      <td>4</td>\n",
       "      <td>5</td>\n",
       "      <td>20</td>\n",
       "      <td>ERROR</td>\n",
       "      <td>Takeaway</td>\n",
       "      <td>2023-11-24</td>\n",
       "    </tr>\n",
       "    <tr>\n",
       "      <th>2994</th>\n",
       "      <td>TXN_3375399</td>\n",
       "      <td>Cookie</td>\n",
       "      <td>1</td>\n",
       "      <td>1</td>\n",
       "      <td>1</td>\n",
       "      <td>Digital Wallet</td>\n",
       "      <td>Takeaway</td>\n",
       "      <td>2023-05-21</td>\n",
       "    </tr>\n",
       "    <tr>\n",
       "      <th>100</th>\n",
       "      <td>TXN_9517146</td>\n",
       "      <td>NaN</td>\n",
       "      <td>5</td>\n",
       "      <td>5</td>\n",
       "      <td>25</td>\n",
       "      <td>Cash</td>\n",
       "      <td>Takeaway</td>\n",
       "      <td>2023-10-30</td>\n",
       "    </tr>\n",
       "    <tr>\n",
       "      <th>1335</th>\n",
       "      <td>TXN_7033977</td>\n",
       "      <td>Sandwich</td>\n",
       "      <td>4</td>\n",
       "      <td>4</td>\n",
       "      <td>16</td>\n",
       "      <td>NaN</td>\n",
       "      <td>Takeaway</td>\n",
       "      <td>2023-05-04</td>\n",
       "    </tr>\n",
       "    <tr>\n",
       "      <th>243</th>\n",
       "      <td>TXN_4530804</td>\n",
       "      <td>Coffee</td>\n",
       "      <td>4</td>\n",
       "      <td>2</td>\n",
       "      <td>8</td>\n",
       "      <td>NaN</td>\n",
       "      <td>NaN</td>\n",
       "      <td>2023-01-12</td>\n",
       "    </tr>\n",
       "    <tr>\n",
       "      <th>4834</th>\n",
       "      <td>TXN_1285279</td>\n",
       "      <td>Coffee</td>\n",
       "      <td>2</td>\n",
       "      <td>2</td>\n",
       "      <td>4</td>\n",
       "      <td>Cash</td>\n",
       "      <td>Takeaway</td>\n",
       "      <td>2023-04-09</td>\n",
       "    </tr>\n",
       "    <tr>\n",
       "      <th>2735</th>\n",
       "      <td>TXN_5822344</td>\n",
       "      <td>Sandwich</td>\n",
       "      <td>5</td>\n",
       "      <td>4</td>\n",
       "      <td>20</td>\n",
       "      <td>Cash</td>\n",
       "      <td>In-store</td>\n",
       "      <td>2023-09-27</td>\n",
       "    </tr>\n",
       "    <tr>\n",
       "      <th>2427</th>\n",
       "      <td>TXN_5947976</td>\n",
       "      <td>Coffee</td>\n",
       "      <td>3</td>\n",
       "      <td>2</td>\n",
       "      <td>6</td>\n",
       "      <td>NaN</td>\n",
       "      <td>In-store</td>\n",
       "      <td>2023-05-21</td>\n",
       "    </tr>\n",
       "  </tbody>\n",
       "</table>\n",
       "</div>"
      ],
      "text/plain": [
       "     Transaction ID      Item  Quantity  Price Per Unit  Total Spent  \\\n",
       "2177    TXN_4650044    Cookie         4               1            4   \n",
       "5556    TXN_9382596  Smoothie         5               4           20   \n",
       "7928    TXN_7308629     Salad         4               5           20   \n",
       "2994    TXN_3375399    Cookie         1               1            1   \n",
       "100     TXN_9517146       NaN         5               5           25   \n",
       "1335    TXN_7033977  Sandwich         4               4           16   \n",
       "243     TXN_4530804    Coffee         4               2            8   \n",
       "4834    TXN_1285279    Coffee         2               2            4   \n",
       "2735    TXN_5822344  Sandwich         5               4           20   \n",
       "2427    TXN_5947976    Coffee         3               2            6   \n",
       "\n",
       "      Payment Method  Location Transaction Date  \n",
       "2177            Cash       NaN       2023-06-21  \n",
       "5556     Credit Card  Takeaway       2023-11-18  \n",
       "7928           ERROR  Takeaway       2023-11-24  \n",
       "2994  Digital Wallet  Takeaway       2023-05-21  \n",
       "100             Cash  Takeaway       2023-10-30  \n",
       "1335             NaN  Takeaway       2023-05-04  \n",
       "243              NaN       NaN       2023-01-12  \n",
       "4834            Cash  Takeaway       2023-04-09  \n",
       "2735            Cash  In-store       2023-09-27  \n",
       "2427             NaN  In-store       2023-05-21  "
      ]
     },
     "execution_count": 126,
     "metadata": {},
     "output_type": "execute_result"
    }
   ],
   "source": [
    "df.sample(10)"
   ]
  },
  {
   "cell_type": "code",
   "execution_count": 127,
   "id": "1f47ede4",
   "metadata": {},
   "outputs": [
    {
     "name": "stdout",
     "output_type": "stream",
     "text": [
      "<class 'pandas.core.frame.DataFrame'>\n",
      "RangeIndex: 10000 entries, 0 to 9999\n",
      "Data columns (total 8 columns):\n",
      " #   Column            Non-Null Count  Dtype \n",
      "---  ------            --------------  ----- \n",
      " 0   Transaction ID    10000 non-null  object\n",
      " 1   Item              9667 non-null   object\n",
      " 2   Quantity          10000 non-null  Int64 \n",
      " 3   Price Per Unit    10000 non-null  Int64 \n",
      " 4   Total Spent       10000 non-null  Int64 \n",
      " 5   Payment Method    7421 non-null   object\n",
      " 6   Location          6735 non-null   object\n",
      " 7   Transaction Date  9841 non-null   object\n",
      "dtypes: Int64(3), object(5)\n",
      "memory usage: 654.4+ KB\n"
     ]
    }
   ],
   "source": [
    "df.info()"
   ]
  },
  {
   "cell_type": "code",
   "execution_count": 128,
   "id": "07f919f4",
   "metadata": {},
   "outputs": [],
   "source": [
    "df['Transaction Date']=pd.to_datetime(df['Transaction Date'],errors='coerce')"
   ]
  },
  {
   "cell_type": "code",
   "execution_count": 129,
   "id": "89ca4b4f",
   "metadata": {},
   "outputs": [
    {
     "data": {
      "text/plain": [
       "np.int64(460)"
      ]
     },
     "execution_count": 129,
     "metadata": {},
     "output_type": "execute_result"
    }
   ],
   "source": [
    "df['Transaction Date'].isnull().sum()"
   ]
  },
  {
   "cell_type": "code",
   "execution_count": 130,
   "id": "df7538d3",
   "metadata": {},
   "outputs": [
    {
     "data": {
      "text/html": [
       "<div>\n",
       "<style scoped>\n",
       "    .dataframe tbody tr th:only-of-type {\n",
       "        vertical-align: middle;\n",
       "    }\n",
       "\n",
       "    .dataframe tbody tr th {\n",
       "        vertical-align: top;\n",
       "    }\n",
       "\n",
       "    .dataframe thead th {\n",
       "        text-align: right;\n",
       "    }\n",
       "</style>\n",
       "<table border=\"1\" class=\"dataframe\">\n",
       "  <thead>\n",
       "    <tr style=\"text-align: right;\">\n",
       "      <th></th>\n",
       "      <th>Transaction ID</th>\n",
       "      <th>Item</th>\n",
       "      <th>Quantity</th>\n",
       "      <th>Price Per Unit</th>\n",
       "      <th>Total Spent</th>\n",
       "      <th>Payment Method</th>\n",
       "      <th>Location</th>\n",
       "      <th>Transaction Date</th>\n",
       "    </tr>\n",
       "  </thead>\n",
       "  <tbody>\n",
       "    <tr>\n",
       "      <th>8015</th>\n",
       "      <td>TXN_4801947</td>\n",
       "      <td>Juice</td>\n",
       "      <td>1</td>\n",
       "      <td>3</td>\n",
       "      <td>3</td>\n",
       "      <td>Digital Wallet</td>\n",
       "      <td>Takeaway</td>\n",
       "      <td>2023-01-01</td>\n",
       "    </tr>\n",
       "    <tr>\n",
       "      <th>9063</th>\n",
       "      <td>TXN_9161256</td>\n",
       "      <td>Smoothie</td>\n",
       "      <td>2</td>\n",
       "      <td>4</td>\n",
       "      <td>8</td>\n",
       "      <td>Digital Wallet</td>\n",
       "      <td>In-store</td>\n",
       "      <td>2023-01-01</td>\n",
       "    </tr>\n",
       "    <tr>\n",
       "      <th>7309</th>\n",
       "      <td>TXN_6093955</td>\n",
       "      <td>Tea</td>\n",
       "      <td>5</td>\n",
       "      <td>2</td>\n",
       "      <td>10</td>\n",
       "      <td>UNKNOWN</td>\n",
       "      <td>Takeaway</td>\n",
       "      <td>2023-01-01</td>\n",
       "    </tr>\n",
       "    <tr>\n",
       "      <th>1425</th>\n",
       "      <td>TXN_8842223</td>\n",
       "      <td>Sandwich</td>\n",
       "      <td>5</td>\n",
       "      <td>3</td>\n",
       "      <td>20</td>\n",
       "      <td>Digital Wallet</td>\n",
       "      <td>In-store</td>\n",
       "      <td>2023-01-01</td>\n",
       "    </tr>\n",
       "    <tr>\n",
       "      <th>1777</th>\n",
       "      <td>TXN_7367474</td>\n",
       "      <td>Juice</td>\n",
       "      <td>5</td>\n",
       "      <td>3</td>\n",
       "      <td>15</td>\n",
       "      <td>Digital Wallet</td>\n",
       "      <td>Takeaway</td>\n",
       "      <td>2023-01-01</td>\n",
       "    </tr>\n",
       "  </tbody>\n",
       "</table>\n",
       "</div>"
      ],
      "text/plain": [
       "     Transaction ID      Item  Quantity  Price Per Unit  Total Spent  \\\n",
       "8015    TXN_4801947     Juice         1               3            3   \n",
       "9063    TXN_9161256  Smoothie         2               4            8   \n",
       "7309    TXN_6093955       Tea         5               2           10   \n",
       "1425    TXN_8842223  Sandwich         5               3           20   \n",
       "1777    TXN_7367474     Juice         5               3           15   \n",
       "\n",
       "      Payment Method  Location Transaction Date  \n",
       "8015  Digital Wallet  Takeaway       2023-01-01  \n",
       "9063  Digital Wallet  In-store       2023-01-01  \n",
       "7309         UNKNOWN  Takeaway       2023-01-01  \n",
       "1425  Digital Wallet  In-store       2023-01-01  \n",
       "1777  Digital Wallet  Takeaway       2023-01-01  "
      ]
     },
     "execution_count": 130,
     "metadata": {},
     "output_type": "execute_result"
    }
   ],
   "source": [
    "df=df.sort_values(by='Transaction Date', ascending=True)\n",
    "df.head()"
   ]
  },
  {
   "cell_type": "code",
   "execution_count": 131,
   "id": "cc4019a4",
   "metadata": {},
   "outputs": [],
   "source": [
    "df = df.reset_index(drop=True)"
   ]
  },
  {
   "cell_type": "code",
   "execution_count": 132,
   "id": "8bae3deb",
   "metadata": {},
   "outputs": [
    {
     "data": {
      "text/html": [
       "<div>\n",
       "<style scoped>\n",
       "    .dataframe tbody tr th:only-of-type {\n",
       "        vertical-align: middle;\n",
       "    }\n",
       "\n",
       "    .dataframe tbody tr th {\n",
       "        vertical-align: top;\n",
       "    }\n",
       "\n",
       "    .dataframe thead th {\n",
       "        text-align: right;\n",
       "    }\n",
       "</style>\n",
       "<table border=\"1\" class=\"dataframe\">\n",
       "  <thead>\n",
       "    <tr style=\"text-align: right;\">\n",
       "      <th></th>\n",
       "      <th>Transaction ID</th>\n",
       "      <th>Item</th>\n",
       "      <th>Quantity</th>\n",
       "      <th>Price Per Unit</th>\n",
       "      <th>Total Spent</th>\n",
       "      <th>Payment Method</th>\n",
       "      <th>Location</th>\n",
       "      <th>Transaction Date</th>\n",
       "    </tr>\n",
       "  </thead>\n",
       "  <tbody>\n",
       "    <tr>\n",
       "      <th>0</th>\n",
       "      <td>TXN_4801947</td>\n",
       "      <td>Juice</td>\n",
       "      <td>1</td>\n",
       "      <td>3</td>\n",
       "      <td>3</td>\n",
       "      <td>Digital Wallet</td>\n",
       "      <td>Takeaway</td>\n",
       "      <td>2023-01-01</td>\n",
       "    </tr>\n",
       "    <tr>\n",
       "      <th>1</th>\n",
       "      <td>TXN_9161256</td>\n",
       "      <td>Smoothie</td>\n",
       "      <td>2</td>\n",
       "      <td>4</td>\n",
       "      <td>8</td>\n",
       "      <td>Digital Wallet</td>\n",
       "      <td>In-store</td>\n",
       "      <td>2023-01-01</td>\n",
       "    </tr>\n",
       "    <tr>\n",
       "      <th>2</th>\n",
       "      <td>TXN_6093955</td>\n",
       "      <td>Tea</td>\n",
       "      <td>5</td>\n",
       "      <td>2</td>\n",
       "      <td>10</td>\n",
       "      <td>UNKNOWN</td>\n",
       "      <td>Takeaway</td>\n",
       "      <td>2023-01-01</td>\n",
       "    </tr>\n",
       "    <tr>\n",
       "      <th>3</th>\n",
       "      <td>TXN_8842223</td>\n",
       "      <td>Sandwich</td>\n",
       "      <td>5</td>\n",
       "      <td>3</td>\n",
       "      <td>20</td>\n",
       "      <td>Digital Wallet</td>\n",
       "      <td>In-store</td>\n",
       "      <td>2023-01-01</td>\n",
       "    </tr>\n",
       "    <tr>\n",
       "      <th>4</th>\n",
       "      <td>TXN_7367474</td>\n",
       "      <td>Juice</td>\n",
       "      <td>5</td>\n",
       "      <td>3</td>\n",
       "      <td>15</td>\n",
       "      <td>Digital Wallet</td>\n",
       "      <td>Takeaway</td>\n",
       "      <td>2023-01-01</td>\n",
       "    </tr>\n",
       "  </tbody>\n",
       "</table>\n",
       "</div>"
      ],
      "text/plain": [
       "  Transaction ID      Item  Quantity  Price Per Unit  Total Spent  \\\n",
       "0    TXN_4801947     Juice         1               3            3   \n",
       "1    TXN_9161256  Smoothie         2               4            8   \n",
       "2    TXN_6093955       Tea         5               2           10   \n",
       "3    TXN_8842223  Sandwich         5               3           20   \n",
       "4    TXN_7367474     Juice         5               3           15   \n",
       "\n",
       "   Payment Method  Location Transaction Date  \n",
       "0  Digital Wallet  Takeaway       2023-01-01  \n",
       "1  Digital Wallet  In-store       2023-01-01  \n",
       "2         UNKNOWN  Takeaway       2023-01-01  \n",
       "3  Digital Wallet  In-store       2023-01-01  \n",
       "4  Digital Wallet  Takeaway       2023-01-01  "
      ]
     },
     "execution_count": 132,
     "metadata": {},
     "output_type": "execute_result"
    }
   ],
   "source": [
    "df.head()"
   ]
  },
  {
   "cell_type": "code",
   "execution_count": 133,
   "id": "c77ef651",
   "metadata": {},
   "outputs": [],
   "source": [
    "df['Transaction Date']=df['Transaction Date'].fillna(df['Transaction Date'].mean())"
   ]
  },
  {
   "cell_type": "code",
   "execution_count": 134,
   "id": "09c12e01",
   "metadata": {},
   "outputs": [
    {
     "data": {
      "text/plain": [
       "np.int64(0)"
      ]
     },
     "execution_count": 134,
     "metadata": {},
     "output_type": "execute_result"
    }
   ],
   "source": [
    "df['Transaction Date'].isnull().sum()"
   ]
  },
  {
   "cell_type": "code",
   "execution_count": 135,
   "id": "2ae37b84",
   "metadata": {},
   "outputs": [],
   "source": [
    "df['Transaction Date']=df['Transaction Date'].dt.date"
   ]
  },
  {
   "cell_type": "code",
   "execution_count": 136,
   "id": "307ab9a1",
   "metadata": {},
   "outputs": [
    {
     "data": {
      "text/html": [
       "<div>\n",
       "<style scoped>\n",
       "    .dataframe tbody tr th:only-of-type {\n",
       "        vertical-align: middle;\n",
       "    }\n",
       "\n",
       "    .dataframe tbody tr th {\n",
       "        vertical-align: top;\n",
       "    }\n",
       "\n",
       "    .dataframe thead th {\n",
       "        text-align: right;\n",
       "    }\n",
       "</style>\n",
       "<table border=\"1\" class=\"dataframe\">\n",
       "  <thead>\n",
       "    <tr style=\"text-align: right;\">\n",
       "      <th></th>\n",
       "      <th>Transaction ID</th>\n",
       "      <th>Item</th>\n",
       "      <th>Quantity</th>\n",
       "      <th>Price Per Unit</th>\n",
       "      <th>Total Spent</th>\n",
       "      <th>Payment Method</th>\n",
       "      <th>Location</th>\n",
       "      <th>Transaction Date</th>\n",
       "    </tr>\n",
       "  </thead>\n",
       "  <tbody>\n",
       "    <tr>\n",
       "      <th>0</th>\n",
       "      <td>TXN_4801947</td>\n",
       "      <td>Juice</td>\n",
       "      <td>1</td>\n",
       "      <td>3</td>\n",
       "      <td>3</td>\n",
       "      <td>Digital Wallet</td>\n",
       "      <td>Takeaway</td>\n",
       "      <td>2023-01-01</td>\n",
       "    </tr>\n",
       "    <tr>\n",
       "      <th>1</th>\n",
       "      <td>TXN_9161256</td>\n",
       "      <td>Smoothie</td>\n",
       "      <td>2</td>\n",
       "      <td>4</td>\n",
       "      <td>8</td>\n",
       "      <td>Digital Wallet</td>\n",
       "      <td>In-store</td>\n",
       "      <td>2023-01-01</td>\n",
       "    </tr>\n",
       "    <tr>\n",
       "      <th>2</th>\n",
       "      <td>TXN_6093955</td>\n",
       "      <td>Tea</td>\n",
       "      <td>5</td>\n",
       "      <td>2</td>\n",
       "      <td>10</td>\n",
       "      <td>UNKNOWN</td>\n",
       "      <td>Takeaway</td>\n",
       "      <td>2023-01-01</td>\n",
       "    </tr>\n",
       "    <tr>\n",
       "      <th>3</th>\n",
       "      <td>TXN_8842223</td>\n",
       "      <td>Sandwich</td>\n",
       "      <td>5</td>\n",
       "      <td>3</td>\n",
       "      <td>20</td>\n",
       "      <td>Digital Wallet</td>\n",
       "      <td>In-store</td>\n",
       "      <td>2023-01-01</td>\n",
       "    </tr>\n",
       "    <tr>\n",
       "      <th>4</th>\n",
       "      <td>TXN_7367474</td>\n",
       "      <td>Juice</td>\n",
       "      <td>5</td>\n",
       "      <td>3</td>\n",
       "      <td>15</td>\n",
       "      <td>Digital Wallet</td>\n",
       "      <td>Takeaway</td>\n",
       "      <td>2023-01-01</td>\n",
       "    </tr>\n",
       "  </tbody>\n",
       "</table>\n",
       "</div>"
      ],
      "text/plain": [
       "  Transaction ID      Item  Quantity  Price Per Unit  Total Spent  \\\n",
       "0    TXN_4801947     Juice         1               3            3   \n",
       "1    TXN_9161256  Smoothie         2               4            8   \n",
       "2    TXN_6093955       Tea         5               2           10   \n",
       "3    TXN_8842223  Sandwich         5               3           20   \n",
       "4    TXN_7367474     Juice         5               3           15   \n",
       "\n",
       "   Payment Method  Location Transaction Date  \n",
       "0  Digital Wallet  Takeaway       2023-01-01  \n",
       "1  Digital Wallet  In-store       2023-01-01  \n",
       "2         UNKNOWN  Takeaway       2023-01-01  \n",
       "3  Digital Wallet  In-store       2023-01-01  \n",
       "4  Digital Wallet  Takeaway       2023-01-01  "
      ]
     },
     "execution_count": 136,
     "metadata": {},
     "output_type": "execute_result"
    }
   ],
   "source": [
    "df.head()"
   ]
  },
  {
   "cell_type": "code",
   "execution_count": 137,
   "id": "f91c59aa",
   "metadata": {},
   "outputs": [],
   "source": [
    "df=df.sort_values(by='Transaction Date', ascending=True)"
   ]
  },
  {
   "cell_type": "code",
   "execution_count": 138,
   "id": "4b971a8e",
   "metadata": {},
   "outputs": [
    {
     "data": {
      "text/plain": [
       "array(['Takeaway', 'ERROR', 'In-store', nan, 'UNKNOWN'], dtype=object)"
      ]
     },
     "execution_count": 138,
     "metadata": {},
     "output_type": "execute_result"
    }
   ],
   "source": [
    "df['Location'].unique()"
   ]
  },
  {
   "cell_type": "code",
   "execution_count": 139,
   "id": "bd94aeba",
   "metadata": {},
   "outputs": [],
   "source": [
    "df['Location']=df['Location'].replace(['ERROR','UNKNOWN'],np.nan)"
   ]
  },
  {
   "cell_type": "code",
   "execution_count": 140,
   "id": "0f50713e",
   "metadata": {},
   "outputs": [
    {
     "data": {
      "text/plain": [
       "array(['Takeaway', nan, 'In-store'], dtype=object)"
      ]
     },
     "execution_count": 140,
     "metadata": {},
     "output_type": "execute_result"
    }
   ],
   "source": [
    "df['Location'].unique()"
   ]
  },
  {
   "cell_type": "code",
   "execution_count": 141,
   "id": "3db13aed",
   "metadata": {},
   "outputs": [],
   "source": [
    "\n",
    "df['Location']=df['Location'].fillna(df['Location'].mode()[0])"
   ]
  },
  {
   "cell_type": "code",
   "execution_count": 142,
   "id": "b8a55b72",
   "metadata": {},
   "outputs": [
    {
     "data": {
      "text/plain": [
       "array(['Takeaway', 'In-store'], dtype=object)"
      ]
     },
     "execution_count": 142,
     "metadata": {},
     "output_type": "execute_result"
    }
   ],
   "source": [
    "df['Location'].unique()"
   ]
  },
  {
   "cell_type": "code",
   "execution_count": 143,
   "id": "dffe32a3",
   "metadata": {},
   "outputs": [
    {
     "data": {
      "text/html": [
       "<div>\n",
       "<style scoped>\n",
       "    .dataframe tbody tr th:only-of-type {\n",
       "        vertical-align: middle;\n",
       "    }\n",
       "\n",
       "    .dataframe tbody tr th {\n",
       "        vertical-align: top;\n",
       "    }\n",
       "\n",
       "    .dataframe thead th {\n",
       "        text-align: right;\n",
       "    }\n",
       "</style>\n",
       "<table border=\"1\" class=\"dataframe\">\n",
       "  <thead>\n",
       "    <tr style=\"text-align: right;\">\n",
       "      <th></th>\n",
       "      <th>Transaction ID</th>\n",
       "      <th>Item</th>\n",
       "      <th>Quantity</th>\n",
       "      <th>Price Per Unit</th>\n",
       "      <th>Total Spent</th>\n",
       "      <th>Payment Method</th>\n",
       "      <th>Location</th>\n",
       "      <th>Transaction Date</th>\n",
       "    </tr>\n",
       "  </thead>\n",
       "  <tbody>\n",
       "    <tr>\n",
       "      <th>0</th>\n",
       "      <td>TXN_4801947</td>\n",
       "      <td>Juice</td>\n",
       "      <td>1</td>\n",
       "      <td>3</td>\n",
       "      <td>3</td>\n",
       "      <td>Digital Wallet</td>\n",
       "      <td>Takeaway</td>\n",
       "      <td>2023-01-01</td>\n",
       "    </tr>\n",
       "    <tr>\n",
       "      <th>19</th>\n",
       "      <td>TXN_6234882</td>\n",
       "      <td>Cookie</td>\n",
       "      <td>4</td>\n",
       "      <td>1</td>\n",
       "      <td>4</td>\n",
       "      <td>Credit Card</td>\n",
       "      <td>Takeaway</td>\n",
       "      <td>2023-01-01</td>\n",
       "    </tr>\n",
       "    <tr>\n",
       "      <th>18</th>\n",
       "      <td>TXN_1581562</td>\n",
       "      <td>Coffee</td>\n",
       "      <td>2</td>\n",
       "      <td>2</td>\n",
       "      <td>4</td>\n",
       "      <td>Cash</td>\n",
       "      <td>In-store</td>\n",
       "      <td>2023-01-01</td>\n",
       "    </tr>\n",
       "    <tr>\n",
       "      <th>17</th>\n",
       "      <td>TXN_4292280</td>\n",
       "      <td>Cake</td>\n",
       "      <td>4</td>\n",
       "      <td>3</td>\n",
       "      <td>12</td>\n",
       "      <td>Cash</td>\n",
       "      <td>Takeaway</td>\n",
       "      <td>2023-01-01</td>\n",
       "    </tr>\n",
       "    <tr>\n",
       "      <th>16</th>\n",
       "      <td>TXN_6566716</td>\n",
       "      <td>Coffee</td>\n",
       "      <td>1</td>\n",
       "      <td>2</td>\n",
       "      <td>2</td>\n",
       "      <td>Credit Card</td>\n",
       "      <td>Takeaway</td>\n",
       "      <td>2023-01-01</td>\n",
       "    </tr>\n",
       "  </tbody>\n",
       "</table>\n",
       "</div>"
      ],
      "text/plain": [
       "   Transaction ID    Item  Quantity  Price Per Unit  Total Spent  \\\n",
       "0     TXN_4801947   Juice         1               3            3   \n",
       "19    TXN_6234882  Cookie         4               1            4   \n",
       "18    TXN_1581562  Coffee         2               2            4   \n",
       "17    TXN_4292280    Cake         4               3           12   \n",
       "16    TXN_6566716  Coffee         1               2            2   \n",
       "\n",
       "    Payment Method  Location Transaction Date  \n",
       "0   Digital Wallet  Takeaway       2023-01-01  \n",
       "19     Credit Card  Takeaway       2023-01-01  \n",
       "18            Cash  In-store       2023-01-01  \n",
       "17            Cash  Takeaway       2023-01-01  \n",
       "16     Credit Card  Takeaway       2023-01-01  "
      ]
     },
     "execution_count": 143,
     "metadata": {},
     "output_type": "execute_result"
    }
   ],
   "source": [
    "df.head()"
   ]
  },
  {
   "cell_type": "code",
   "execution_count": 144,
   "id": "f7895965",
   "metadata": {},
   "outputs": [
    {
     "data": {
      "text/plain": [
       "array(['Digital Wallet', 'Credit Card', 'Cash', 'ERROR', nan, 'UNKNOWN'],\n",
       "      dtype=object)"
      ]
     },
     "execution_count": 144,
     "metadata": {},
     "output_type": "execute_result"
    }
   ],
   "source": [
    "df['Payment Method'].unique()"
   ]
  },
  {
   "cell_type": "code",
   "execution_count": 145,
   "id": "4dfdc6d5",
   "metadata": {},
   "outputs": [],
   "source": [
    "df['Payment Method']=df['Payment Method'].replace(['ERROR','UNKNOWN'],np.nan)"
   ]
  },
  {
   "cell_type": "code",
   "execution_count": 146,
   "id": "59662071",
   "metadata": {},
   "outputs": [
    {
     "data": {
      "text/plain": [
       "np.int64(3178)"
      ]
     },
     "execution_count": 146,
     "metadata": {},
     "output_type": "execute_result"
    }
   ],
   "source": [
    "df['Payment Method'].isnull().sum()"
   ]
  },
  {
   "cell_type": "code",
   "execution_count": 147,
   "id": "b480eec1",
   "metadata": {},
   "outputs": [
    {
     "data": {
      "text/plain": [
       "Payment Method\n",
       "Digital Wallet    2291\n",
       "Credit Card       2273\n",
       "Cash              2258\n",
       "Name: count, dtype: int64"
      ]
     },
     "execution_count": 147,
     "metadata": {},
     "output_type": "execute_result"
    }
   ],
   "source": [
    "df['Payment Method'].value_counts()"
   ]
  },
  {
   "cell_type": "code",
   "execution_count": null,
   "id": "f7fa29ed",
   "metadata": {},
   "outputs": [],
   "source": []
  },
  {
   "cell_type": "code",
   "execution_count": 148,
   "id": "ee797810",
   "metadata": {},
   "outputs": [],
   "source": [
    "counts = df['Payment Method'].value_counts()\n",
    "most = counts.index[0]\n",
    "second = counts.index[1] if len(counts) > 1 else most\n",
    "least = counts.index[-1]\n",
    "\n",
    "# Probabilities: 50%, 30%, 20%\n",
    "choices = [most, second, least]\n",
    "probs = [0.5, 0.3, 0.2]\n",
    "\n",
    "# Fill NaNs randomly according to probabilities\n",
    "df.loc[df['Payment Method'].isna(), 'Payment Method'] = np.random.choice(choices, \n",
    "                                                             size=df['Payment Method'].isna().sum(),\n",
    "                                                             p=probs)"
   ]
  },
  {
   "cell_type": "code",
   "execution_count": 149,
   "id": "7b8f1ecd",
   "metadata": {},
   "outputs": [
    {
     "data": {
      "text/plain": [
       "Payment Method\n",
       "Digital Wallet    3853\n",
       "Credit Card       3222\n",
       "Cash              2925\n",
       "Name: count, dtype: int64"
      ]
     },
     "execution_count": 149,
     "metadata": {},
     "output_type": "execute_result"
    }
   ],
   "source": [
    "df['Payment Method'].value_counts()"
   ]
  },
  {
   "cell_type": "code",
   "execution_count": 150,
   "id": "3b99b19e",
   "metadata": {},
   "outputs": [
    {
     "data": {
      "text/plain": [
       "np.int64(0)"
      ]
     },
     "execution_count": 150,
     "metadata": {},
     "output_type": "execute_result"
    }
   ],
   "source": [
    "df['Payment Method'].isnull().sum()"
   ]
  },
  {
   "cell_type": "code",
   "execution_count": 154,
   "id": "29216adc",
   "metadata": {},
   "outputs": [
    {
     "data": {
      "text/html": [
       "<div>\n",
       "<style scoped>\n",
       "    .dataframe tbody tr th:only-of-type {\n",
       "        vertical-align: middle;\n",
       "    }\n",
       "\n",
       "    .dataframe tbody tr th {\n",
       "        vertical-align: top;\n",
       "    }\n",
       "\n",
       "    .dataframe thead th {\n",
       "        text-align: right;\n",
       "    }\n",
       "</style>\n",
       "<table border=\"1\" class=\"dataframe\">\n",
       "  <thead>\n",
       "    <tr style=\"text-align: right;\">\n",
       "      <th></th>\n",
       "      <th>Transaction ID</th>\n",
       "      <th>Item</th>\n",
       "      <th>Quantity</th>\n",
       "      <th>Price Per Unit</th>\n",
       "      <th>Total Spent</th>\n",
       "      <th>Payment Method</th>\n",
       "      <th>Location</th>\n",
       "      <th>Transaction Date</th>\n",
       "    </tr>\n",
       "  </thead>\n",
       "  <tbody>\n",
       "    <tr>\n",
       "      <th>0</th>\n",
       "      <td>TXN_4801947</td>\n",
       "      <td>Juice</td>\n",
       "      <td>1</td>\n",
       "      <td>3</td>\n",
       "      <td>3</td>\n",
       "      <td>Digital Wallet</td>\n",
       "      <td>Takeaway</td>\n",
       "      <td>2023-01-01</td>\n",
       "    </tr>\n",
       "    <tr>\n",
       "      <th>1</th>\n",
       "      <td>TXN_6234882</td>\n",
       "      <td>Cookie</td>\n",
       "      <td>4</td>\n",
       "      <td>1</td>\n",
       "      <td>4</td>\n",
       "      <td>Credit Card</td>\n",
       "      <td>Takeaway</td>\n",
       "      <td>2023-01-01</td>\n",
       "    </tr>\n",
       "    <tr>\n",
       "      <th>2</th>\n",
       "      <td>TXN_1581562</td>\n",
       "      <td>Coffee</td>\n",
       "      <td>2</td>\n",
       "      <td>2</td>\n",
       "      <td>4</td>\n",
       "      <td>Cash</td>\n",
       "      <td>In-store</td>\n",
       "      <td>2023-01-01</td>\n",
       "    </tr>\n",
       "    <tr>\n",
       "      <th>3</th>\n",
       "      <td>TXN_4292280</td>\n",
       "      <td>Cake</td>\n",
       "      <td>4</td>\n",
       "      <td>3</td>\n",
       "      <td>12</td>\n",
       "      <td>Cash</td>\n",
       "      <td>Takeaway</td>\n",
       "      <td>2023-01-01</td>\n",
       "    </tr>\n",
       "    <tr>\n",
       "      <th>4</th>\n",
       "      <td>TXN_6566716</td>\n",
       "      <td>Coffee</td>\n",
       "      <td>1</td>\n",
       "      <td>2</td>\n",
       "      <td>2</td>\n",
       "      <td>Credit Card</td>\n",
       "      <td>Takeaway</td>\n",
       "      <td>2023-01-01</td>\n",
       "    </tr>\n",
       "  </tbody>\n",
       "</table>\n",
       "</div>"
      ],
      "text/plain": [
       "  Transaction ID    Item  Quantity  Price Per Unit  Total Spent  \\\n",
       "0    TXN_4801947   Juice         1               3            3   \n",
       "1    TXN_6234882  Cookie         4               1            4   \n",
       "2    TXN_1581562  Coffee         2               2            4   \n",
       "3    TXN_4292280    Cake         4               3           12   \n",
       "4    TXN_6566716  Coffee         1               2            2   \n",
       "\n",
       "   Payment Method  Location Transaction Date  \n",
       "0  Digital Wallet  Takeaway       2023-01-01  \n",
       "1     Credit Card  Takeaway       2023-01-01  \n",
       "2            Cash  In-store       2023-01-01  \n",
       "3            Cash  Takeaway       2023-01-01  \n",
       "4     Credit Card  Takeaway       2023-01-01  "
      ]
     },
     "execution_count": 154,
     "metadata": {},
     "output_type": "execute_result"
    }
   ],
   "source": [
    "df.head()"
   ]
  },
  {
   "cell_type": "code",
   "execution_count": 155,
   "id": "bb578b33",
   "metadata": {},
   "outputs": [],
   "source": [
    "df = df.reset_index(drop=True)"
   ]
  },
  {
   "cell_type": "code",
   "execution_count": 156,
   "id": "374326c3",
   "metadata": {},
   "outputs": [
    {
     "data": {
      "text/html": [
       "<div>\n",
       "<style scoped>\n",
       "    .dataframe tbody tr th:only-of-type {\n",
       "        vertical-align: middle;\n",
       "    }\n",
       "\n",
       "    .dataframe tbody tr th {\n",
       "        vertical-align: top;\n",
       "    }\n",
       "\n",
       "    .dataframe thead th {\n",
       "        text-align: right;\n",
       "    }\n",
       "</style>\n",
       "<table border=\"1\" class=\"dataframe\">\n",
       "  <thead>\n",
       "    <tr style=\"text-align: right;\">\n",
       "      <th></th>\n",
       "      <th>Transaction ID</th>\n",
       "      <th>Item</th>\n",
       "      <th>Quantity</th>\n",
       "      <th>Price Per Unit</th>\n",
       "      <th>Total Spent</th>\n",
       "      <th>Payment Method</th>\n",
       "      <th>Location</th>\n",
       "      <th>Transaction Date</th>\n",
       "    </tr>\n",
       "  </thead>\n",
       "  <tbody>\n",
       "    <tr>\n",
       "      <th>0</th>\n",
       "      <td>TXN_4801947</td>\n",
       "      <td>Juice</td>\n",
       "      <td>1</td>\n",
       "      <td>3</td>\n",
       "      <td>3</td>\n",
       "      <td>Digital Wallet</td>\n",
       "      <td>Takeaway</td>\n",
       "      <td>2023-01-01</td>\n",
       "    </tr>\n",
       "    <tr>\n",
       "      <th>1</th>\n",
       "      <td>TXN_6234882</td>\n",
       "      <td>Cookie</td>\n",
       "      <td>4</td>\n",
       "      <td>1</td>\n",
       "      <td>4</td>\n",
       "      <td>Credit Card</td>\n",
       "      <td>Takeaway</td>\n",
       "      <td>2023-01-01</td>\n",
       "    </tr>\n",
       "    <tr>\n",
       "      <th>2</th>\n",
       "      <td>TXN_1581562</td>\n",
       "      <td>Coffee</td>\n",
       "      <td>2</td>\n",
       "      <td>2</td>\n",
       "      <td>4</td>\n",
       "      <td>Cash</td>\n",
       "      <td>In-store</td>\n",
       "      <td>2023-01-01</td>\n",
       "    </tr>\n",
       "    <tr>\n",
       "      <th>3</th>\n",
       "      <td>TXN_4292280</td>\n",
       "      <td>Cake</td>\n",
       "      <td>4</td>\n",
       "      <td>3</td>\n",
       "      <td>12</td>\n",
       "      <td>Cash</td>\n",
       "      <td>Takeaway</td>\n",
       "      <td>2023-01-01</td>\n",
       "    </tr>\n",
       "    <tr>\n",
       "      <th>4</th>\n",
       "      <td>TXN_6566716</td>\n",
       "      <td>Coffee</td>\n",
       "      <td>1</td>\n",
       "      <td>2</td>\n",
       "      <td>2</td>\n",
       "      <td>Credit Card</td>\n",
       "      <td>Takeaway</td>\n",
       "      <td>2023-01-01</td>\n",
       "    </tr>\n",
       "  </tbody>\n",
       "</table>\n",
       "</div>"
      ],
      "text/plain": [
       "  Transaction ID    Item  Quantity  Price Per Unit  Total Spent  \\\n",
       "0    TXN_4801947   Juice         1               3            3   \n",
       "1    TXN_6234882  Cookie         4               1            4   \n",
       "2    TXN_1581562  Coffee         2               2            4   \n",
       "3    TXN_4292280    Cake         4               3           12   \n",
       "4    TXN_6566716  Coffee         1               2            2   \n",
       "\n",
       "   Payment Method  Location Transaction Date  \n",
       "0  Digital Wallet  Takeaway       2023-01-01  \n",
       "1     Credit Card  Takeaway       2023-01-01  \n",
       "2            Cash  In-store       2023-01-01  \n",
       "3            Cash  Takeaway       2023-01-01  \n",
       "4     Credit Card  Takeaway       2023-01-01  "
      ]
     },
     "execution_count": 156,
     "metadata": {},
     "output_type": "execute_result"
    }
   ],
   "source": [
    "df.head()"
   ]
  },
  {
   "cell_type": "code",
   "execution_count": 153,
   "id": "3e26b95e",
   "metadata": {},
   "outputs": [
    {
     "name": "stdout",
     "output_type": "stream",
     "text": [
      "<class 'pandas.core.frame.DataFrame'>\n",
      "RangeIndex: 10000 entries, 0 to 9999\n",
      "Data columns (total 8 columns):\n",
      " #   Column            Non-Null Count  Dtype \n",
      "---  ------            --------------  ----- \n",
      " 0   Transaction ID    10000 non-null  object\n",
      " 1   Item              9667 non-null   object\n",
      " 2   Quantity          10000 non-null  Int64 \n",
      " 3   Price Per Unit    10000 non-null  Int64 \n",
      " 4   Total Spent       10000 non-null  Int64 \n",
      " 5   Payment Method    10000 non-null  object\n",
      " 6   Location          10000 non-null  object\n",
      " 7   Transaction Date  10000 non-null  object\n",
      "dtypes: Int64(3), object(5)\n",
      "memory usage: 654.4+ KB\n"
     ]
    }
   ],
   "source": [
    "df.info()"
   ]
  },
  {
   "cell_type": "code",
   "execution_count": 157,
   "id": "ec7baa26",
   "metadata": {},
   "outputs": [
    {
     "data": {
      "text/plain": [
       "Item\n",
       "Juice       1171\n",
       "Coffee      1165\n",
       "Salad       1148\n",
       "Cake        1139\n",
       "Sandwich    1131\n",
       "Smoothie    1096\n",
       "Cookie      1092\n",
       "Tea         1089\n",
       "UNKNOWN      344\n",
       "ERROR        292\n",
       "Name: count, dtype: int64"
      ]
     },
     "execution_count": 157,
     "metadata": {},
     "output_type": "execute_result"
    }
   ],
   "source": [
    "df['Item'].value_counts()"
   ]
  },
  {
   "cell_type": "code",
   "execution_count": 160,
   "id": "5b68e1ba",
   "metadata": {},
   "outputs": [
    {
     "data": {
      "text/plain": [
       "np.int64(969)"
      ]
     },
     "execution_count": 160,
     "metadata": {},
     "output_type": "execute_result"
    }
   ],
   "source": [
    "df['Item'].isnull().sum()"
   ]
  },
  {
   "cell_type": "code",
   "execution_count": 159,
   "id": "0348f847",
   "metadata": {},
   "outputs": [],
   "source": [
    "df['Item']=df['Item'].replace(['ERROR','UNKNOWN'],np.nan)"
   ]
  },
  {
   "cell_type": "code",
   "execution_count": 161,
   "id": "b56c9467",
   "metadata": {},
   "outputs": [
    {
     "data": {
      "text/plain": [
       "np.int64(969)"
      ]
     },
     "execution_count": 161,
     "metadata": {},
     "output_type": "execute_result"
    }
   ],
   "source": [
    "df['Item'].isnull().sum()"
   ]
  },
  {
   "cell_type": "code",
   "execution_count": 165,
   "id": "fb738932",
   "metadata": {},
   "outputs": [
    {
     "name": "stdout",
     "output_type": "stream",
     "text": [
      "Item\n",
      "Cake        3\n",
      "Coffee      2\n",
      "Cookie      1\n",
      "Juice       3\n",
      "Salad       5\n",
      "Sandwich    4\n",
      "Smoothie    4\n",
      "Tea         2\n",
      "Name: Price Per Unit, dtype: Int64\n"
     ]
    }
   ],
   "source": [
    "item_prices = df.groupby('Item')['Price Per Unit'].first()\n",
    "print(item_prices)\n"
   ]
  },
  {
   "cell_type": "code",
   "execution_count": 164,
   "id": "8635abbb",
   "metadata": {},
   "outputs": [],
   "source": [
    "# Your mapping of Item → Price Per Unit\n",
    "price_mapping = {\n",
    "    3: ['Cake', 'Juice'],\n",
    "    2: ['Coffee', 'Tea'],\n",
    "    1: ['Cookie'],\n",
    "    5: ['Salad'],\n",
    "    4: ['Sandwich', 'Smoothie']\n",
    "}\n",
    "\n",
    "# Function to fill missing Item based on Price Per Unit\n",
    "def fill_item(row):\n",
    "    if pd.isna(row['Item']):\n",
    "        price = row['Price Per Unit']\n",
    "        if price in price_mapping:\n",
    "            # If multiple items share the same price, pick randomly\n",
    "            return np.random.choice(price_mapping[price])\n",
    "    return row['Item']\n",
    "\n",
    "# Apply to DataFrame\n",
    "df['Item'] = df.apply(fill_item, axis=1)\n"
   ]
  },
  {
   "cell_type": "code",
   "execution_count": 166,
   "id": "ebc5a859",
   "metadata": {},
   "outputs": [
    {
     "data": {
      "text/html": [
       "<div>\n",
       "<style scoped>\n",
       "    .dataframe tbody tr th:only-of-type {\n",
       "        vertical-align: middle;\n",
       "    }\n",
       "\n",
       "    .dataframe tbody tr th {\n",
       "        vertical-align: top;\n",
       "    }\n",
       "\n",
       "    .dataframe thead th {\n",
       "        text-align: right;\n",
       "    }\n",
       "</style>\n",
       "<table border=\"1\" class=\"dataframe\">\n",
       "  <thead>\n",
       "    <tr style=\"text-align: right;\">\n",
       "      <th></th>\n",
       "      <th>Transaction ID</th>\n",
       "      <th>Item</th>\n",
       "      <th>Quantity</th>\n",
       "      <th>Price Per Unit</th>\n",
       "      <th>Total Spent</th>\n",
       "      <th>Payment Method</th>\n",
       "      <th>Location</th>\n",
       "      <th>Transaction Date</th>\n",
       "    </tr>\n",
       "  </thead>\n",
       "  <tbody>\n",
       "    <tr>\n",
       "      <th>0</th>\n",
       "      <td>TXN_4801947</td>\n",
       "      <td>Juice</td>\n",
       "      <td>1</td>\n",
       "      <td>3</td>\n",
       "      <td>3</td>\n",
       "      <td>Digital Wallet</td>\n",
       "      <td>Takeaway</td>\n",
       "      <td>2023-01-01</td>\n",
       "    </tr>\n",
       "    <tr>\n",
       "      <th>1</th>\n",
       "      <td>TXN_6234882</td>\n",
       "      <td>Cookie</td>\n",
       "      <td>4</td>\n",
       "      <td>1</td>\n",
       "      <td>4</td>\n",
       "      <td>Credit Card</td>\n",
       "      <td>Takeaway</td>\n",
       "      <td>2023-01-01</td>\n",
       "    </tr>\n",
       "    <tr>\n",
       "      <th>2</th>\n",
       "      <td>TXN_1581562</td>\n",
       "      <td>Coffee</td>\n",
       "      <td>2</td>\n",
       "      <td>2</td>\n",
       "      <td>4</td>\n",
       "      <td>Cash</td>\n",
       "      <td>In-store</td>\n",
       "      <td>2023-01-01</td>\n",
       "    </tr>\n",
       "    <tr>\n",
       "      <th>3</th>\n",
       "      <td>TXN_4292280</td>\n",
       "      <td>Cake</td>\n",
       "      <td>4</td>\n",
       "      <td>3</td>\n",
       "      <td>12</td>\n",
       "      <td>Cash</td>\n",
       "      <td>Takeaway</td>\n",
       "      <td>2023-01-01</td>\n",
       "    </tr>\n",
       "    <tr>\n",
       "      <th>4</th>\n",
       "      <td>TXN_6566716</td>\n",
       "      <td>Coffee</td>\n",
       "      <td>1</td>\n",
       "      <td>2</td>\n",
       "      <td>2</td>\n",
       "      <td>Credit Card</td>\n",
       "      <td>Takeaway</td>\n",
       "      <td>2023-01-01</td>\n",
       "    </tr>\n",
       "  </tbody>\n",
       "</table>\n",
       "</div>"
      ],
      "text/plain": [
       "  Transaction ID    Item  Quantity  Price Per Unit  Total Spent  \\\n",
       "0    TXN_4801947   Juice         1               3            3   \n",
       "1    TXN_6234882  Cookie         4               1            4   \n",
       "2    TXN_1581562  Coffee         2               2            4   \n",
       "3    TXN_4292280    Cake         4               3           12   \n",
       "4    TXN_6566716  Coffee         1               2            2   \n",
       "\n",
       "   Payment Method  Location Transaction Date  \n",
       "0  Digital Wallet  Takeaway       2023-01-01  \n",
       "1     Credit Card  Takeaway       2023-01-01  \n",
       "2            Cash  In-store       2023-01-01  \n",
       "3            Cash  Takeaway       2023-01-01  \n",
       "4     Credit Card  Takeaway       2023-01-01  "
      ]
     },
     "execution_count": 166,
     "metadata": {},
     "output_type": "execute_result"
    }
   ],
   "source": [
    "df.head()"
   ]
  },
  {
   "cell_type": "code",
   "execution_count": 167,
   "id": "111a8bf7",
   "metadata": {},
   "outputs": [
    {
     "data": {
      "text/html": [
       "<div>\n",
       "<style scoped>\n",
       "    .dataframe tbody tr th:only-of-type {\n",
       "        vertical-align: middle;\n",
       "    }\n",
       "\n",
       "    .dataframe tbody tr th {\n",
       "        vertical-align: top;\n",
       "    }\n",
       "\n",
       "    .dataframe thead th {\n",
       "        text-align: right;\n",
       "    }\n",
       "</style>\n",
       "<table border=\"1\" class=\"dataframe\">\n",
       "  <thead>\n",
       "    <tr style=\"text-align: right;\">\n",
       "      <th></th>\n",
       "      <th>Transaction ID</th>\n",
       "      <th>Item</th>\n",
       "      <th>Quantity</th>\n",
       "      <th>Price Per Unit</th>\n",
       "      <th>Total Spent</th>\n",
       "      <th>Payment Method</th>\n",
       "      <th>Location</th>\n",
       "      <th>Transaction Date</th>\n",
       "    </tr>\n",
       "  </thead>\n",
       "  <tbody>\n",
       "    <tr>\n",
       "      <th>4723</th>\n",
       "      <td>TXN_7827797</td>\n",
       "      <td>Salad</td>\n",
       "      <td>3</td>\n",
       "      <td>5</td>\n",
       "      <td>15</td>\n",
       "      <td>Credit Card</td>\n",
       "      <td>Takeaway</td>\n",
       "      <td>2023-06-30</td>\n",
       "    </tr>\n",
       "    <tr>\n",
       "      <th>3753</th>\n",
       "      <td>TXN_5817991</td>\n",
       "      <td>Smoothie</td>\n",
       "      <td>4</td>\n",
       "      <td>4</td>\n",
       "      <td>16</td>\n",
       "      <td>Cash</td>\n",
       "      <td>Takeaway</td>\n",
       "      <td>2023-05-24</td>\n",
       "    </tr>\n",
       "    <tr>\n",
       "      <th>528</th>\n",
       "      <td>TXN_6383336</td>\n",
       "      <td>Cake</td>\n",
       "      <td>2</td>\n",
       "      <td>3</td>\n",
       "      <td>6</td>\n",
       "      <td>Cash</td>\n",
       "      <td>Takeaway</td>\n",
       "      <td>2023-01-21</td>\n",
       "    </tr>\n",
       "    <tr>\n",
       "      <th>8114</th>\n",
       "      <td>TXN_7435096</td>\n",
       "      <td>Coffee</td>\n",
       "      <td>4</td>\n",
       "      <td>2</td>\n",
       "      <td>6</td>\n",
       "      <td>Digital Wallet</td>\n",
       "      <td>In-store</td>\n",
       "      <td>2023-10-21</td>\n",
       "    </tr>\n",
       "    <tr>\n",
       "      <th>8579</th>\n",
       "      <td>TXN_9629256</td>\n",
       "      <td>Cake</td>\n",
       "      <td>4</td>\n",
       "      <td>3</td>\n",
       "      <td>12</td>\n",
       "      <td>Digital Wallet</td>\n",
       "      <td>In-store</td>\n",
       "      <td>2023-11-07</td>\n",
       "    </tr>\n",
       "    <tr>\n",
       "      <th>1552</th>\n",
       "      <td>TXN_2480488</td>\n",
       "      <td>Juice</td>\n",
       "      <td>2</td>\n",
       "      <td>3</td>\n",
       "      <td>6</td>\n",
       "      <td>Cash</td>\n",
       "      <td>Takeaway</td>\n",
       "      <td>2023-03-01</td>\n",
       "    </tr>\n",
       "    <tr>\n",
       "      <th>2245</th>\n",
       "      <td>TXN_5731238</td>\n",
       "      <td>Cake</td>\n",
       "      <td>2</td>\n",
       "      <td>3</td>\n",
       "      <td>6</td>\n",
       "      <td>Credit Card</td>\n",
       "      <td>Takeaway</td>\n",
       "      <td>2023-03-27</td>\n",
       "    </tr>\n",
       "    <tr>\n",
       "      <th>3849</th>\n",
       "      <td>TXN_8786479</td>\n",
       "      <td>Coffee</td>\n",
       "      <td>4</td>\n",
       "      <td>2</td>\n",
       "      <td>8</td>\n",
       "      <td>Cash</td>\n",
       "      <td>Takeaway</td>\n",
       "      <td>2023-05-29</td>\n",
       "    </tr>\n",
       "    <tr>\n",
       "      <th>6372</th>\n",
       "      <td>TXN_9677376</td>\n",
       "      <td>Smoothie</td>\n",
       "      <td>4</td>\n",
       "      <td>4</td>\n",
       "      <td>16</td>\n",
       "      <td>Digital Wallet</td>\n",
       "      <td>In-store</td>\n",
       "      <td>2023-08-15</td>\n",
       "    </tr>\n",
       "    <tr>\n",
       "      <th>1574</th>\n",
       "      <td>TXN_8892230</td>\n",
       "      <td>Coffee</td>\n",
       "      <td>5</td>\n",
       "      <td>2</td>\n",
       "      <td>10</td>\n",
       "      <td>Digital Wallet</td>\n",
       "      <td>Takeaway</td>\n",
       "      <td>2023-03-02</td>\n",
       "    </tr>\n",
       "  </tbody>\n",
       "</table>\n",
       "</div>"
      ],
      "text/plain": [
       "     Transaction ID      Item  Quantity  Price Per Unit  Total Spent  \\\n",
       "4723    TXN_7827797     Salad         3               5           15   \n",
       "3753    TXN_5817991  Smoothie         4               4           16   \n",
       "528     TXN_6383336      Cake         2               3            6   \n",
       "8114    TXN_7435096    Coffee         4               2            6   \n",
       "8579    TXN_9629256      Cake         4               3           12   \n",
       "1552    TXN_2480488     Juice         2               3            6   \n",
       "2245    TXN_5731238      Cake         2               3            6   \n",
       "3849    TXN_8786479    Coffee         4               2            8   \n",
       "6372    TXN_9677376  Smoothie         4               4           16   \n",
       "1574    TXN_8892230    Coffee         5               2           10   \n",
       "\n",
       "      Payment Method  Location Transaction Date  \n",
       "4723     Credit Card  Takeaway       2023-06-30  \n",
       "3753            Cash  Takeaway       2023-05-24  \n",
       "528             Cash  Takeaway       2023-01-21  \n",
       "8114  Digital Wallet  In-store       2023-10-21  \n",
       "8579  Digital Wallet  In-store       2023-11-07  \n",
       "1552            Cash  Takeaway       2023-03-01  \n",
       "2245     Credit Card  Takeaway       2023-03-27  \n",
       "3849            Cash  Takeaway       2023-05-29  \n",
       "6372  Digital Wallet  In-store       2023-08-15  \n",
       "1574  Digital Wallet  Takeaway       2023-03-02  "
      ]
     },
     "execution_count": 167,
     "metadata": {},
     "output_type": "execute_result"
    }
   ],
   "source": [
    "df.sample(10)"
   ]
  },
  {
   "cell_type": "code",
   "execution_count": 168,
   "id": "73830f84",
   "metadata": {},
   "outputs": [],
   "source": [
    "df['Total Spent']=df['Quantity']*df['Price Per Unit']"
   ]
  },
  {
   "cell_type": "code",
   "execution_count": 170,
   "id": "1dd8dae9",
   "metadata": {},
   "outputs": [
    {
     "data": {
      "text/html": [
       "<div>\n",
       "<style scoped>\n",
       "    .dataframe tbody tr th:only-of-type {\n",
       "        vertical-align: middle;\n",
       "    }\n",
       "\n",
       "    .dataframe tbody tr th {\n",
       "        vertical-align: top;\n",
       "    }\n",
       "\n",
       "    .dataframe thead th {\n",
       "        text-align: right;\n",
       "    }\n",
       "</style>\n",
       "<table border=\"1\" class=\"dataframe\">\n",
       "  <thead>\n",
       "    <tr style=\"text-align: right;\">\n",
       "      <th></th>\n",
       "      <th>Transaction ID</th>\n",
       "      <th>Item</th>\n",
       "      <th>Quantity</th>\n",
       "      <th>Price Per Unit</th>\n",
       "      <th>Total Spent</th>\n",
       "      <th>Payment Method</th>\n",
       "      <th>Location</th>\n",
       "      <th>Transaction Date</th>\n",
       "    </tr>\n",
       "  </thead>\n",
       "  <tbody>\n",
       "    <tr>\n",
       "      <th>6135</th>\n",
       "      <td>TXN_2291713</td>\n",
       "      <td>Salad</td>\n",
       "      <td>4</td>\n",
       "      <td>5</td>\n",
       "      <td>20</td>\n",
       "      <td>Cash</td>\n",
       "      <td>In-store</td>\n",
       "      <td>2023-08-06</td>\n",
       "    </tr>\n",
       "    <tr>\n",
       "      <th>4893</th>\n",
       "      <td>TXN_5761073</td>\n",
       "      <td>Cookie</td>\n",
       "      <td>1</td>\n",
       "      <td>1</td>\n",
       "      <td>1</td>\n",
       "      <td>Cash</td>\n",
       "      <td>In-store</td>\n",
       "      <td>2023-07-01</td>\n",
       "    </tr>\n",
       "    <tr>\n",
       "      <th>1916</th>\n",
       "      <td>TXN_9201010</td>\n",
       "      <td>Salad</td>\n",
       "      <td>1</td>\n",
       "      <td>5</td>\n",
       "      <td>5</td>\n",
       "      <td>Credit Card</td>\n",
       "      <td>Takeaway</td>\n",
       "      <td>2023-03-15</td>\n",
       "    </tr>\n",
       "    <tr>\n",
       "      <th>4269</th>\n",
       "      <td>TXN_4108120</td>\n",
       "      <td>Coffee</td>\n",
       "      <td>2</td>\n",
       "      <td>2</td>\n",
       "      <td>4</td>\n",
       "      <td>Digital Wallet</td>\n",
       "      <td>In-store</td>\n",
       "      <td>2023-06-14</td>\n",
       "    </tr>\n",
       "    <tr>\n",
       "      <th>4537</th>\n",
       "      <td>TXN_2851147</td>\n",
       "      <td>Salad</td>\n",
       "      <td>2</td>\n",
       "      <td>5</td>\n",
       "      <td>10</td>\n",
       "      <td>Digital Wallet</td>\n",
       "      <td>In-store</td>\n",
       "      <td>2023-06-24</td>\n",
       "    </tr>\n",
       "    <tr>\n",
       "      <th>2594</th>\n",
       "      <td>TXN_5087453</td>\n",
       "      <td>Tea</td>\n",
       "      <td>3</td>\n",
       "      <td>2</td>\n",
       "      <td>6</td>\n",
       "      <td>Cash</td>\n",
       "      <td>Takeaway</td>\n",
       "      <td>2023-04-09</td>\n",
       "    </tr>\n",
       "    <tr>\n",
       "      <th>7166</th>\n",
       "      <td>TXN_3893927</td>\n",
       "      <td>Salad</td>\n",
       "      <td>4</td>\n",
       "      <td>5</td>\n",
       "      <td>20</td>\n",
       "      <td>Credit Card</td>\n",
       "      <td>In-store</td>\n",
       "      <td>2023-09-14</td>\n",
       "    </tr>\n",
       "    <tr>\n",
       "      <th>3162</th>\n",
       "      <td>TXN_6670371</td>\n",
       "      <td>Tea</td>\n",
       "      <td>3</td>\n",
       "      <td>2</td>\n",
       "      <td>6</td>\n",
       "      <td>Credit Card</td>\n",
       "      <td>Takeaway</td>\n",
       "      <td>2023-05-01</td>\n",
       "    </tr>\n",
       "    <tr>\n",
       "      <th>9269</th>\n",
       "      <td>TXN_8932070</td>\n",
       "      <td>Smoothie</td>\n",
       "      <td>3</td>\n",
       "      <td>4</td>\n",
       "      <td>12</td>\n",
       "      <td>Digital Wallet</td>\n",
       "      <td>In-store</td>\n",
       "      <td>2023-12-03</td>\n",
       "    </tr>\n",
       "    <tr>\n",
       "      <th>4734</th>\n",
       "      <td>TXN_2119373</td>\n",
       "      <td>Salad</td>\n",
       "      <td>4</td>\n",
       "      <td>5</td>\n",
       "      <td>20</td>\n",
       "      <td>Credit Card</td>\n",
       "      <td>In-store</td>\n",
       "      <td>2023-06-30</td>\n",
       "    </tr>\n",
       "  </tbody>\n",
       "</table>\n",
       "</div>"
      ],
      "text/plain": [
       "     Transaction ID      Item  Quantity  Price Per Unit  Total Spent  \\\n",
       "6135    TXN_2291713     Salad         4               5           20   \n",
       "4893    TXN_5761073    Cookie         1               1            1   \n",
       "1916    TXN_9201010     Salad         1               5            5   \n",
       "4269    TXN_4108120    Coffee         2               2            4   \n",
       "4537    TXN_2851147     Salad         2               5           10   \n",
       "2594    TXN_5087453       Tea         3               2            6   \n",
       "7166    TXN_3893927     Salad         4               5           20   \n",
       "3162    TXN_6670371       Tea         3               2            6   \n",
       "9269    TXN_8932070  Smoothie         3               4           12   \n",
       "4734    TXN_2119373     Salad         4               5           20   \n",
       "\n",
       "      Payment Method  Location Transaction Date  \n",
       "6135            Cash  In-store       2023-08-06  \n",
       "4893            Cash  In-store       2023-07-01  \n",
       "1916     Credit Card  Takeaway       2023-03-15  \n",
       "4269  Digital Wallet  In-store       2023-06-14  \n",
       "4537  Digital Wallet  In-store       2023-06-24  \n",
       "2594            Cash  Takeaway       2023-04-09  \n",
       "7166     Credit Card  In-store       2023-09-14  \n",
       "3162     Credit Card  Takeaway       2023-05-01  \n",
       "9269  Digital Wallet  In-store       2023-12-03  \n",
       "4734     Credit Card  In-store       2023-06-30  "
      ]
     },
     "execution_count": 170,
     "metadata": {},
     "output_type": "execute_result"
    }
   ],
   "source": [
    "df.sample(10)"
   ]
  },
  {
   "cell_type": "code",
   "execution_count": 171,
   "id": "2e947e20",
   "metadata": {},
   "outputs": [
    {
     "data": {
      "text/html": [
       "<div>\n",
       "<style scoped>\n",
       "    .dataframe tbody tr th:only-of-type {\n",
       "        vertical-align: middle;\n",
       "    }\n",
       "\n",
       "    .dataframe tbody tr th {\n",
       "        vertical-align: top;\n",
       "    }\n",
       "\n",
       "    .dataframe thead th {\n",
       "        text-align: right;\n",
       "    }\n",
       "</style>\n",
       "<table border=\"1\" class=\"dataframe\">\n",
       "  <thead>\n",
       "    <tr style=\"text-align: right;\">\n",
       "      <th></th>\n",
       "      <th>Transaction ID</th>\n",
       "      <th>Item</th>\n",
       "      <th>Quantity</th>\n",
       "      <th>Price Per Unit</th>\n",
       "      <th>Total Spent</th>\n",
       "      <th>Payment Method</th>\n",
       "      <th>Location</th>\n",
       "      <th>Transaction Date</th>\n",
       "    </tr>\n",
       "  </thead>\n",
       "  <tbody>\n",
       "    <tr>\n",
       "      <th>0</th>\n",
       "      <td>TXN_4801947</td>\n",
       "      <td>Juice</td>\n",
       "      <td>1</td>\n",
       "      <td>3</td>\n",
       "      <td>3</td>\n",
       "      <td>Digital Wallet</td>\n",
       "      <td>Takeaway</td>\n",
       "      <td>2023-01-01</td>\n",
       "    </tr>\n",
       "    <tr>\n",
       "      <th>1</th>\n",
       "      <td>TXN_6234882</td>\n",
       "      <td>Cookie</td>\n",
       "      <td>4</td>\n",
       "      <td>1</td>\n",
       "      <td>4</td>\n",
       "      <td>Credit Card</td>\n",
       "      <td>Takeaway</td>\n",
       "      <td>2023-01-01</td>\n",
       "    </tr>\n",
       "    <tr>\n",
       "      <th>2</th>\n",
       "      <td>TXN_1581562</td>\n",
       "      <td>Coffee</td>\n",
       "      <td>2</td>\n",
       "      <td>2</td>\n",
       "      <td>4</td>\n",
       "      <td>Cash</td>\n",
       "      <td>In-store</td>\n",
       "      <td>2023-01-01</td>\n",
       "    </tr>\n",
       "    <tr>\n",
       "      <th>3</th>\n",
       "      <td>TXN_4292280</td>\n",
       "      <td>Cake</td>\n",
       "      <td>4</td>\n",
       "      <td>3</td>\n",
       "      <td>12</td>\n",
       "      <td>Cash</td>\n",
       "      <td>Takeaway</td>\n",
       "      <td>2023-01-01</td>\n",
       "    </tr>\n",
       "    <tr>\n",
       "      <th>4</th>\n",
       "      <td>TXN_6566716</td>\n",
       "      <td>Coffee</td>\n",
       "      <td>1</td>\n",
       "      <td>2</td>\n",
       "      <td>2</td>\n",
       "      <td>Credit Card</td>\n",
       "      <td>Takeaway</td>\n",
       "      <td>2023-01-01</td>\n",
       "    </tr>\n",
       "  </tbody>\n",
       "</table>\n",
       "</div>"
      ],
      "text/plain": [
       "  Transaction ID    Item  Quantity  Price Per Unit  Total Spent  \\\n",
       "0    TXN_4801947   Juice         1               3            3   \n",
       "1    TXN_6234882  Cookie         4               1            4   \n",
       "2    TXN_1581562  Coffee         2               2            4   \n",
       "3    TXN_4292280    Cake         4               3           12   \n",
       "4    TXN_6566716  Coffee         1               2            2   \n",
       "\n",
       "   Payment Method  Location Transaction Date  \n",
       "0  Digital Wallet  Takeaway       2023-01-01  \n",
       "1     Credit Card  Takeaway       2023-01-01  \n",
       "2            Cash  In-store       2023-01-01  \n",
       "3            Cash  Takeaway       2023-01-01  \n",
       "4     Credit Card  Takeaway       2023-01-01  "
      ]
     },
     "execution_count": 171,
     "metadata": {},
     "output_type": "execute_result"
    }
   ],
   "source": [
    "df.head()"
   ]
  },
  {
   "cell_type": "code",
   "execution_count": 172,
   "id": "fcc6b0a7",
   "metadata": {},
   "outputs": [
    {
     "name": "stdout",
     "output_type": "stream",
     "text": [
      "<class 'pandas.core.frame.DataFrame'>\n",
      "RangeIndex: 10000 entries, 0 to 9999\n",
      "Data columns (total 8 columns):\n",
      " #   Column            Non-Null Count  Dtype \n",
      "---  ------            --------------  ----- \n",
      " 0   Transaction ID    10000 non-null  object\n",
      " 1   Item              10000 non-null  object\n",
      " 2   Quantity          10000 non-null  Int64 \n",
      " 3   Price Per Unit    10000 non-null  Int64 \n",
      " 4   Total Spent       10000 non-null  Int64 \n",
      " 5   Payment Method    10000 non-null  object\n",
      " 6   Location          10000 non-null  object\n",
      " 7   Transaction Date  10000 non-null  object\n",
      "dtypes: Int64(3), object(5)\n",
      "memory usage: 654.4+ KB\n"
     ]
    }
   ],
   "source": [
    "df.info()"
   ]
  },
  {
   "cell_type": "code",
   "execution_count": 173,
   "id": "7cc91a26",
   "metadata": {},
   "outputs": [],
   "source": [
    "df.to_csv('cafe_sales.csv',index=False)"
   ]
  },
  {
   "cell_type": "code",
   "execution_count": null,
   "id": "5e315e6e",
   "metadata": {},
   "outputs": [],
   "source": []
  }
 ],
 "metadata": {
  "kernelspec": {
   "display_name": "Python 3",
   "language": "python",
   "name": "python3"
  },
  "language_info": {
   "codemirror_mode": {
    "name": "ipython",
    "version": 3
   },
   "file_extension": ".py",
   "mimetype": "text/x-python",
   "name": "python",
   "nbconvert_exporter": "python",
   "pygments_lexer": "ipython3",
   "version": "3.11.4"
  }
 },
 "nbformat": 4,
 "nbformat_minor": 5
}
